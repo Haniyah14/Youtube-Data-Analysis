{
  "nbformat": 4,
  "nbformat_minor": 0,
  "metadata": {
    "colab": {
      "provenance": [],
      "authorship_tag": "ABX9TyO1SaQ82aTLjjidb6A6+m+Z",
      "include_colab_link": true
    },
    "kernelspec": {
      "name": "python3",
      "display_name": "Python 3"
    },
    "language_info": {
      "name": "python"
    }
  },
  "cells": [
    {
      "cell_type": "markdown",
      "metadata": {
        "id": "view-in-github",
        "colab_type": "text"
      },
      "source": [
        "<a href=\"https://colab.research.google.com/github/Haniyah14/Youtube-Data-Analysis/blob/main/youtube_ml_analysis.ipynb\" target=\"_parent\"><img src=\"https://colab.research.google.com/assets/colab-badge.svg\" alt=\"Open In Colab\"/></a>"
      ]
    },
    {
      "cell_type": "code",
      "execution_count": null,
      "metadata": {
        "colab": {
          "base_uri": "https://localhost:8080/",
          "height": 110
        },
        "id": "Yk5UTy_dVWBn",
        "outputId": "0cfb54c8-61d4-4460-d409-79c3fa5cbfba"
      },
      "outputs": [
        {
          "output_type": "display_data",
          "data": {
            "text/plain": [
              "<IPython.core.display.HTML object>"
            ],
            "text/html": [
              "\n",
              "     <input type=\"file\" id=\"files-754f3033-f253-4146-a853-4be9b7c2f144\" name=\"files[]\" multiple disabled\n",
              "        style=\"border:none\" />\n",
              "     <output id=\"result-754f3033-f253-4146-a853-4be9b7c2f144\">\n",
              "      Upload widget is only available when the cell has been executed in the\n",
              "      current browser session. Please rerun this cell to enable.\n",
              "      </output>\n",
              "      <script>// Copyright 2017 Google LLC\n",
              "//\n",
              "// Licensed under the Apache License, Version 2.0 (the \"License\");\n",
              "// you may not use this file except in compliance with the License.\n",
              "// You may obtain a copy of the License at\n",
              "//\n",
              "//      http://www.apache.org/licenses/LICENSE-2.0\n",
              "//\n",
              "// Unless required by applicable law or agreed to in writing, software\n",
              "// distributed under the License is distributed on an \"AS IS\" BASIS,\n",
              "// WITHOUT WARRANTIES OR CONDITIONS OF ANY KIND, either express or implied.\n",
              "// See the License for the specific language governing permissions and\n",
              "// limitations under the License.\n",
              "\n",
              "/**\n",
              " * @fileoverview Helpers for google.colab Python module.\n",
              " */\n",
              "(function(scope) {\n",
              "function span(text, styleAttributes = {}) {\n",
              "  const element = document.createElement('span');\n",
              "  element.textContent = text;\n",
              "  for (const key of Object.keys(styleAttributes)) {\n",
              "    element.style[key] = styleAttributes[key];\n",
              "  }\n",
              "  return element;\n",
              "}\n",
              "\n",
              "// Max number of bytes which will be uploaded at a time.\n",
              "const MAX_PAYLOAD_SIZE = 100 * 1024;\n",
              "\n",
              "function _uploadFiles(inputId, outputId) {\n",
              "  const steps = uploadFilesStep(inputId, outputId);\n",
              "  const outputElement = document.getElementById(outputId);\n",
              "  // Cache steps on the outputElement to make it available for the next call\n",
              "  // to uploadFilesContinue from Python.\n",
              "  outputElement.steps = steps;\n",
              "\n",
              "  return _uploadFilesContinue(outputId);\n",
              "}\n",
              "\n",
              "// This is roughly an async generator (not supported in the browser yet),\n",
              "// where there are multiple asynchronous steps and the Python side is going\n",
              "// to poll for completion of each step.\n",
              "// This uses a Promise to block the python side on completion of each step,\n",
              "// then passes the result of the previous step as the input to the next step.\n",
              "function _uploadFilesContinue(outputId) {\n",
              "  const outputElement = document.getElementById(outputId);\n",
              "  const steps = outputElement.steps;\n",
              "\n",
              "  const next = steps.next(outputElement.lastPromiseValue);\n",
              "  return Promise.resolve(next.value.promise).then((value) => {\n",
              "    // Cache the last promise value to make it available to the next\n",
              "    // step of the generator.\n",
              "    outputElement.lastPromiseValue = value;\n",
              "    return next.value.response;\n",
              "  });\n",
              "}\n",
              "\n",
              "/**\n",
              " * Generator function which is called between each async step of the upload\n",
              " * process.\n",
              " * @param {string} inputId Element ID of the input file picker element.\n",
              " * @param {string} outputId Element ID of the output display.\n",
              " * @return {!Iterable<!Object>} Iterable of next steps.\n",
              " */\n",
              "function* uploadFilesStep(inputId, outputId) {\n",
              "  const inputElement = document.getElementById(inputId);\n",
              "  inputElement.disabled = false;\n",
              "\n",
              "  const outputElement = document.getElementById(outputId);\n",
              "  outputElement.innerHTML = '';\n",
              "\n",
              "  const pickedPromise = new Promise((resolve) => {\n",
              "    inputElement.addEventListener('change', (e) => {\n",
              "      resolve(e.target.files);\n",
              "    });\n",
              "  });\n",
              "\n",
              "  const cancel = document.createElement('button');\n",
              "  inputElement.parentElement.appendChild(cancel);\n",
              "  cancel.textContent = 'Cancel upload';\n",
              "  const cancelPromise = new Promise((resolve) => {\n",
              "    cancel.onclick = () => {\n",
              "      resolve(null);\n",
              "    };\n",
              "  });\n",
              "\n",
              "  // Wait for the user to pick the files.\n",
              "  const files = yield {\n",
              "    promise: Promise.race([pickedPromise, cancelPromise]),\n",
              "    response: {\n",
              "      action: 'starting',\n",
              "    }\n",
              "  };\n",
              "\n",
              "  cancel.remove();\n",
              "\n",
              "  // Disable the input element since further picks are not allowed.\n",
              "  inputElement.disabled = true;\n",
              "\n",
              "  if (!files) {\n",
              "    return {\n",
              "      response: {\n",
              "        action: 'complete',\n",
              "      }\n",
              "    };\n",
              "  }\n",
              "\n",
              "  for (const file of files) {\n",
              "    const li = document.createElement('li');\n",
              "    li.append(span(file.name, {fontWeight: 'bold'}));\n",
              "    li.append(span(\n",
              "        `(${file.type || 'n/a'}) - ${file.size} bytes, ` +\n",
              "        `last modified: ${\n",
              "            file.lastModifiedDate ? file.lastModifiedDate.toLocaleDateString() :\n",
              "                                    'n/a'} - `));\n",
              "    const percent = span('0% done');\n",
              "    li.appendChild(percent);\n",
              "\n",
              "    outputElement.appendChild(li);\n",
              "\n",
              "    const fileDataPromise = new Promise((resolve) => {\n",
              "      const reader = new FileReader();\n",
              "      reader.onload = (e) => {\n",
              "        resolve(e.target.result);\n",
              "      };\n",
              "      reader.readAsArrayBuffer(file);\n",
              "    });\n",
              "    // Wait for the data to be ready.\n",
              "    let fileData = yield {\n",
              "      promise: fileDataPromise,\n",
              "      response: {\n",
              "        action: 'continue',\n",
              "      }\n",
              "    };\n",
              "\n",
              "    // Use a chunked sending to avoid message size limits. See b/62115660.\n",
              "    let position = 0;\n",
              "    do {\n",
              "      const length = Math.min(fileData.byteLength - position, MAX_PAYLOAD_SIZE);\n",
              "      const chunk = new Uint8Array(fileData, position, length);\n",
              "      position += length;\n",
              "\n",
              "      const base64 = btoa(String.fromCharCode.apply(null, chunk));\n",
              "      yield {\n",
              "        response: {\n",
              "          action: 'append',\n",
              "          file: file.name,\n",
              "          data: base64,\n",
              "        },\n",
              "      };\n",
              "\n",
              "      let percentDone = fileData.byteLength === 0 ?\n",
              "          100 :\n",
              "          Math.round((position / fileData.byteLength) * 100);\n",
              "      percent.textContent = `${percentDone}% done`;\n",
              "\n",
              "    } while (position < fileData.byteLength);\n",
              "  }\n",
              "\n",
              "  // All done.\n",
              "  yield {\n",
              "    response: {\n",
              "      action: 'complete',\n",
              "    }\n",
              "  };\n",
              "}\n",
              "\n",
              "scope.google = scope.google || {};\n",
              "scope.google.colab = scope.google.colab || {};\n",
              "scope.google.colab._files = {\n",
              "  _uploadFiles,\n",
              "  _uploadFilesContinue,\n",
              "};\n",
              "})(self);\n",
              "</script> "
            ]
          },
          "metadata": {}
        },
        {
          "output_type": "stream",
          "name": "stdout",
          "text": [
            "Saving most_subscribed_youtube_channels.csv to most_subscribed_youtube_channels (2).csv\n"
          ]
        }
      ],
      "source": [
        "from IPython import get_ipython\n",
        "from IPython.display import display\n",
        "# %%\n",
        "from google.colab import files\n",
        "\n",
        "uploaded = files.upload() #returns dictionary with filenames as keys.\n",
        "#values are the filedata"
      ]
    },
    {
      "cell_type": "code",
      "source": [
        "import pandas as pd\n",
        "import io\n",
        "\n",
        "df = pd.read_csv(io.BytesIO(uploaded['most_subscribed_youtube_channels.csv']))\n",
        "\n",
        "# Clean numerical columns: remove commas and convert to numeric\n",
        "cols_to_clean = ['subscribers', 'video views', 'video count']\n",
        "for col in cols_to_clean:\n",
        "    # Check if the column is of object (string) type before applying .str\n",
        "    if df[col].dtype == 'object':\n",
        "        df[col] = df[col].str.replace(',', '', regex=True)\n",
        "    df[col] = pd.to_numeric(df[col], errors='coerce')  # Convert to numeric, invalid parsing will become NaN\n",
        "\n",
        "# Drop rows with missing values in key columns\n",
        "df = df.dropna(subset=cols_to_clean + ['started'])\n",
        "\n",
        "# Create new features\n",
        "df['channel_age'] = 2025 - df['started']  # Assuming current year 2025\n",
        "df['views_per_video'] = df['video views'] / df['video count']\n",
        "df['subs_per_view'] = df['subscribers'] / df['video views']\n",
        "\n",
        "# Handle infinite or NaN values in new features\n",
        "df.replace([float('inf'), -float('inf')], pd.NA, inplace=True)\n",
        "df.dropna(subset=['views_per_video', 'subs_per_view'], inplace=True)\n",
        "\n",
        "\n",
        "display(df)"
      ],
      "metadata": {
        "colab": {
          "base_uri": "https://localhost:8080/",
          "height": 228
        },
        "id": "57W6z6nKXngV",
        "outputId": "b0a2d4dc-7bfb-4984-ccd2-5f2b9f6c9ce2"
      },
      "execution_count": null,
      "outputs": [
        {
          "output_type": "error",
          "ename": "KeyError",
          "evalue": "'most_subscribed_youtube_channels.csv'",
          "traceback": [
            "\u001b[0;31m---------------------------------------------------------------------------\u001b[0m",
            "\u001b[0;31mKeyError\u001b[0m                                  Traceback (most recent call last)",
            "\u001b[0;32m<ipython-input-15-c72612e358ce>\u001b[0m in \u001b[0;36m<cell line: 0>\u001b[0;34m()\u001b[0m\n\u001b[1;32m      2\u001b[0m \u001b[0;32mimport\u001b[0m \u001b[0mio\u001b[0m\u001b[0;34m\u001b[0m\u001b[0;34m\u001b[0m\u001b[0m\n\u001b[1;32m      3\u001b[0m \u001b[0;34m\u001b[0m\u001b[0m\n\u001b[0;32m----> 4\u001b[0;31m \u001b[0mdf\u001b[0m \u001b[0;34m=\u001b[0m \u001b[0mpd\u001b[0m\u001b[0;34m.\u001b[0m\u001b[0mread_csv\u001b[0m\u001b[0;34m(\u001b[0m\u001b[0mio\u001b[0m\u001b[0;34m.\u001b[0m\u001b[0mBytesIO\u001b[0m\u001b[0;34m(\u001b[0m\u001b[0muploaded\u001b[0m\u001b[0;34m[\u001b[0m\u001b[0;34m'most_subscribed_youtube_channels.csv'\u001b[0m\u001b[0;34m]\u001b[0m\u001b[0;34m)\u001b[0m\u001b[0;34m)\u001b[0m\u001b[0;34m\u001b[0m\u001b[0;34m\u001b[0m\u001b[0m\n\u001b[0m\u001b[1;32m      5\u001b[0m \u001b[0;34m\u001b[0m\u001b[0m\n\u001b[1;32m      6\u001b[0m \u001b[0;31m# Clean numerical columns: remove commas and convert to numeric\u001b[0m\u001b[0;34m\u001b[0m\u001b[0;34m\u001b[0m\u001b[0m\n",
            "\u001b[0;31mKeyError\u001b[0m: 'most_subscribed_youtube_channels.csv'"
          ]
        }
      ]
    },
    {
      "cell_type": "code",
      "source": [
        "import plotly.express as px\n",
        "fig = px.histogram(df, x='subscribers', title='Subscriber Count')\n",
        "fig.show()"
      ],
      "metadata": {
        "colab": {
          "base_uri": "https://localhost:8080/",
          "height": 542
        },
        "id": "zFP0s9pCZ7Q-",
        "outputId": "62345975-7ac2-45ce-cbc0-3a1c8ae4f33b"
      },
      "execution_count": null,
      "outputs": [
        {
          "output_type": "display_data",
          "data": {
            "text/html": [
              "<html>\n",
              "<head><meta charset=\"utf-8\" /></head>\n",
              "<body>\n",
              "    <div>            <script src=\"https://cdnjs.cloudflare.com/ajax/libs/mathjax/2.7.5/MathJax.js?config=TeX-AMS-MML_SVG\"></script><script type=\"text/javascript\">if (window.MathJax && window.MathJax.Hub && window.MathJax.Hub.Config) {window.MathJax.Hub.Config({SVG: {font: \"STIX-Web\"}});}</script>                <script type=\"text/javascript\">window.PlotlyConfig = {MathJaxConfig: 'local'};</script>\n",
              "        <script charset=\"utf-8\" src=\"https://cdn.plot.ly/plotly-2.35.2.min.js\"></script>                <div id=\"30b108af-eace-4c9a-ad7c-3ddbabd86b7a\" class=\"plotly-graph-div\" style=\"height:525px; width:100%;\"></div>            <script type=\"text/javascript\">                                    window.PLOTLYENV=window.PLOTLYENV || {};                                    if (document.getElementById(\"30b108af-eace-4c9a-ad7c-3ddbabd86b7a\")) {                    Plotly.newPlot(                        \"30b108af-eace-4c9a-ad7c-3ddbabd86b7a\",                        [{\"alignmentgroup\":\"True\",\"bingroup\":\"x\",\"hovertemplate\":\"subscribers=%{x}\\u003cbr\\u003ecount=%{y}\\u003cextra\\u003e\\u003c\\u002fextra\\u003e\",\"legendgroup\":\"\",\"marker\":{\"color\":\"#636efa\",\"pattern\":{\"shape\":\"\"}},\"name\":\"\",\"offsetgroup\":\"\",\"orientation\":\"v\",\"showlegend\":false,\"x\":[222000000,154000000,140000000,139000000,116000000,111000000,102000000,99700000,99200000,92700000,90200000,86700000,85100000,77100000,76200000,75100000,74100000,70600000,70000000,69700000,67800000,65900000,63000000,61300000,59400000,58100000,57700000,57600000,55700000,55100000,53400000,53000000,52900000,52800000,52500000,52400000,52200000,51700000,51600000,49800000,47600000,47100000,46200000,46100000,45700000,45600000,45600000,45100000,44300000,43900000,43900000,43300000,43300000,43200000,42700000,42500000,42200000,41500000,41300000,41200000,40800000,40600000,40400000,39700000,39600000,39500000,39200000,38800000,38700000,38300000,37800000,37800000,37600000,37600000,37400000,37200000,37200000,37000000,36800000,36500000,36300000,36200000,36000000,35900000,35900000,35800000,35700000,35300000,35300000,35200000,35100000,34400000,34300000,33600000,33600000,33500000,33400000,33400000,33300000,33300000,33200000,33200000,33100000,33000000,32900000,32800000,32700000,32700000,32500000,32300000,32200000,32100000,31900000,31900000,31800000,31600000,31500000,31400000,31000000,30900000,30900000,30800000,30800000,30700000,30600000,30500000,30500000,30400000,30300000,30100000,30000000,29900000,29900000,29700000,29600000,29600000,29500000,29400000,29400000,29200000,29200000,29100000,28700000,28700000,28600000,28600000,28600000,28600000,28600000,28600000,28400000,28400000,28200000,28100000,28100000,28100000,28000000,28000000,27900000,27700000,27600000,27400000,27200000,27100000,27100000,26900000,26800000,26800000,26700000,26600000,26500000,26400000,26400000,26300000,26300000,26300000,26200000,26100000,26100000,25900000,25900000,25800000,25800000,25800000,25700000,25600000,25500000,25500000,25400000,25200000,25200000,25100000,25000000,24900000,24900000,24900000,24900000,24800000,24700000,24600000,24600000,24500000,24400000,24400000,24300000,24300000,24300000,24300000,24300000,24200000,24200000,24100000,24000000,24000000,24000000,23900000,23900000,23900000,23900000,23900000,23500000,23500000,23400000,23400000,23400000,23300000,23200000,23200000,23100000,23100000,23000000,22900000,22900000,22800000,22800000,22700000,22500000,22400000,22400000,22300000,22300000,22300000,22300000,22300000,22200000,22200000,22100000,22100000,22100000,22100000,22100000,22000000,22000000,21900000,21900000,21700000,21700000,21700000,21700000,21600000,21600000,21500000,21500000,21500000,21400000,21200000,21200000,21100000,21100000,21000000,21000000,20900000,20900000,20900000,20900000,20800000,20800000,20800000,20800000,20700000,20700000,20700000,20600000,20500000,20400000,20400000,20400000,20400000,20400000,20400000,20400000,20300000,20300000,20200000,20200000,20100000,20100000,20100000,20100000,20000000,20000000,20000000,20000000,20000000,20000000,19900000,19900000,19900000,19800000,19800000,19800000,19700000,19700000,19700000,19600000,19600000,19600000,19600000,19500000,19500000,19400000,19400000,19400000,19400000,19300000,19300000,19200000,19200000,19200000,19200000,19200000,19100000,19100000,19100000,19100000,19100000,19000000,19000000,19000000,18900000,18800000,18800000,18800000,18700000,18700000,18700000,18700000,18600000,18600000,18600000,18500000,18500000,18500000,18500000,18500000,18400000,18300000,18300000,18300000,18200000,18200000,18200000,18200000,18200000,18200000,18200000,18200000,18200000,18100000,18100000,18100000,18100000,18100000,18000000,18000000,18000000,18000000,18000000,18000000,17900000,17900000,17800000,17800000,17800000,17800000,17800000,17800000,17700000,17700000,17700000,17700000,17700000,17600000,17600000,17600000,17600000,17600000,17600000,17500000,17400000,17400000,17400000,17400000,17400000,17300000,17300000,17300000,17300000,17200000,17200000,17200000,17200000,17200000,17200000,17100000,17100000,17100000,17100000,17100000,17000000,17000000,17000000,17000000,17000000,16900000,16900000,16900000,16900000,16800000,16800000,16800000,16800000,16700000,16700000,16700000,16700000,16700000,16600000,16600000,16600000,16500000,16500000,16500000,16400000,16400000,16400000,16400000,16300000,16300000,16300000,16300000,16300000,16200000,16200000,16200000,16200000,16200000,16200000,16100000,16100000,16100000,16100000,16100000,16100000,16100000,16100000,16100000,16000000,16000000,16000000,16000000,16000000,15900000,15900000,15900000,15900000,15900000,15900000,15900000,15900000,15900000,15900000,15800000,15800000,15800000,15800000,15800000,15700000,15700000,15700000,15700000,15700000,15700000,15700000,15700000,15700000,15600000,15600000,15600000,15500000,15500000,15500000,15500000,15400000,15400000,15400000,15400000,15300000,15300000,15200000,15200000,15200000,15200000,15200000,15200000,15200000,15200000,15100000,15100000,15100000,15100000,15100000,15100000,15000000,15000000,15000000,15000000,15000000,15000000,15000000,15000000,15000000,15000000,15000000,14900000,14900000,14900000,14900000,14900000,14900000,14900000,14900000,14900000,14800000,14800000,14800000,14800000,14800000,14800000,14800000,14800000,14800000,14800000,14800000,14800000,14700000,14700000,14700000,14700000,14700000,14700000,14700000,14700000,14700000,14600000,14600000,14600000,14600000,14600000,14600000,14600000,14600000,14600000,14500000,14500000,14500000,14500000,14500000,14500000,14500000,14500000,14500000,14500000,14500000,14500000,14500000,14500000,14500000,14400000,14400000,14400000,14400000,14400000,14400000,14400000,14400000,14400000,14400000,14400000,14400000,14400000,14300000,14300000,14300000,14300000,14300000,14300000,14200000,14200000,14200000,14200000,14200000,14200000,14200000,14200000,14100000,14100000,14100000,14100000,14100000,14100000,14100000,14100000,14100000,14000000,14000000,14000000,14000000,14000000,14000000,13900000,13900000,13900000,13900000,13900000,13900000,13900000,13900000,13900000,13900000,13900000,13900000,13800000,13800000,13800000,13800000,13800000,13800000,13700000,13700000,13700000,13700000,13700000,13700000,13700000,13700000,13700000,13700000,13600000,13600000,13600000,13600000,13600000,13500000,13500000,13500000,13500000,13500000,13500000,13500000,13400000,13400000,13400000,13400000,13400000,13400000,13400000,13400000,13400000,13400000,13400000,13400000,13400000,13400000,13400000,13300000,13300000,13300000,13300000,13200000,13200000,13200000,13200000,13200000,13200000,13100000,13100000,13100000,13100000,13100000,13100000,13100000,13100000,13100000,13000000,13000000,13000000,13000000,13000000,13000000,13000000,13000000,12900000,12900000,12900000,12900000,12900000,12900000,12900000,12900000,12900000,12900000,12900000,12900000,12900000,12800000,12800000,12800000,12800000,12800000,12800000,12800000,12800000,12800000,12800000,12800000,12800000,12800000,12800000,12800000,12700000,12700000,12700000,12700000,12700000,12700000,12700000,12700000,12600000,12600000,12600000,12600000,12600000,12600000,12600000,12600000,12600000,12600000,12600000,12600000,12600000,12600000,12600000,12500000,12500000,12500000,12500000,12500000,12500000,12500000,12500000,12500000,12500000,12500000,12500000,12500000,12400000,12400000,12400000,12400000,12400000,12400000,12400000,12400000,12400000,12400000,12400000,12400000,12400000,12400000,12400000,12400000,12400000,12400000,12400000,12400000,12300000,12300000,12300000,12300000,12300000,12300000,12300000,12200000,12200000,12200000,12200000,12200000,12200000,12200000,12200000,12200000,12200000,12200000,12200000,12100000,12100000,12100000,12100000,12100000,12100000,12100000,12100000,12100000,12000000,12000000,12000000,12000000,12000000,12000000,12000000,12000000,12000000,12000000,12000000,12000000,11900000,11900000,11900000,11900000,11900000,11900000,11900000,11900000,11900000,11900000,11900000,11900000,11900000,11900000,11900000,11800000,11800000,11800000,11800000,11800000,11800000,11800000,11800000,11800000,11800000,11800000,11800000,11800000,11800000,11800000,11800000,11800000,11800000,11800000,11700000,11700000,11700000,11700000,11700000,11700000,11700000,11700000,11700000,11700000,11700000,11700000,11700000,11700000,11700000,11600000,11600000,11600000,11600000,11600000,11600000,11600000,11600000,11600000,11600000,11500000,11500000,11500000,11500000,11500000,11500000,11500000,11500000,11500000,11500000,11500000,11400000,11400000,11400000,11400000,11400000,11400000,11400000,11400000,11400000,11400000,11400000,11400000,11400000,11400000,11400000,11300000,11300000,11300000,11300000,11300000,11300000,11300000,11300000,11300000,11300000,11300000,11300000,11300000,11300000,11300000,11300000,11300000,11300000,11200000,11200000,11200000,11200000,11200000,11200000,11200000,11200000,11200000,11200000,11200000,11200000,11200000,11200000,11200000,11200000,11200000,11100000,11100000,11100000,11100000,11100000,11100000,11100000,11100000,11100000,11100000,11100000,11100000,11100000,11100000,11100000,11100000,11100000,11100000,11100000,11100000,11100000,11000000,11000000,11000000,11000000,11000000,11000000,11000000,11000000,11000000,11000000,11000000,11000000,11000000,11000000,10900000,10900000,10900000,10900000,10900000,10900000,10900000,10900000,10900000],\"xaxis\":\"x\",\"yaxis\":\"y\",\"type\":\"histogram\"}],                        {\"template\":{\"data\":{\"histogram2dcontour\":[{\"type\":\"histogram2dcontour\",\"colorbar\":{\"outlinewidth\":0,\"ticks\":\"\"},\"colorscale\":[[0.0,\"#0d0887\"],[0.1111111111111111,\"#46039f\"],[0.2222222222222222,\"#7201a8\"],[0.3333333333333333,\"#9c179e\"],[0.4444444444444444,\"#bd3786\"],[0.5555555555555556,\"#d8576b\"],[0.6666666666666666,\"#ed7953\"],[0.7777777777777778,\"#fb9f3a\"],[0.8888888888888888,\"#fdca26\"],[1.0,\"#f0f921\"]]}],\"choropleth\":[{\"type\":\"choropleth\",\"colorbar\":{\"outlinewidth\":0,\"ticks\":\"\"}}],\"histogram2d\":[{\"type\":\"histogram2d\",\"colorbar\":{\"outlinewidth\":0,\"ticks\":\"\"},\"colorscale\":[[0.0,\"#0d0887\"],[0.1111111111111111,\"#46039f\"],[0.2222222222222222,\"#7201a8\"],[0.3333333333333333,\"#9c179e\"],[0.4444444444444444,\"#bd3786\"],[0.5555555555555556,\"#d8576b\"],[0.6666666666666666,\"#ed7953\"],[0.7777777777777778,\"#fb9f3a\"],[0.8888888888888888,\"#fdca26\"],[1.0,\"#f0f921\"]]}],\"heatmap\":[{\"type\":\"heatmap\",\"colorbar\":{\"outlinewidth\":0,\"ticks\":\"\"},\"colorscale\":[[0.0,\"#0d0887\"],[0.1111111111111111,\"#46039f\"],[0.2222222222222222,\"#7201a8\"],[0.3333333333333333,\"#9c179e\"],[0.4444444444444444,\"#bd3786\"],[0.5555555555555556,\"#d8576b\"],[0.6666666666666666,\"#ed7953\"],[0.7777777777777778,\"#fb9f3a\"],[0.8888888888888888,\"#fdca26\"],[1.0,\"#f0f921\"]]}],\"heatmapgl\":[{\"type\":\"heatmapgl\",\"colorbar\":{\"outlinewidth\":0,\"ticks\":\"\"},\"colorscale\":[[0.0,\"#0d0887\"],[0.1111111111111111,\"#46039f\"],[0.2222222222222222,\"#7201a8\"],[0.3333333333333333,\"#9c179e\"],[0.4444444444444444,\"#bd3786\"],[0.5555555555555556,\"#d8576b\"],[0.6666666666666666,\"#ed7953\"],[0.7777777777777778,\"#fb9f3a\"],[0.8888888888888888,\"#fdca26\"],[1.0,\"#f0f921\"]]}],\"contourcarpet\":[{\"type\":\"contourcarpet\",\"colorbar\":{\"outlinewidth\":0,\"ticks\":\"\"}}],\"contour\":[{\"type\":\"contour\",\"colorbar\":{\"outlinewidth\":0,\"ticks\":\"\"},\"colorscale\":[[0.0,\"#0d0887\"],[0.1111111111111111,\"#46039f\"],[0.2222222222222222,\"#7201a8\"],[0.3333333333333333,\"#9c179e\"],[0.4444444444444444,\"#bd3786\"],[0.5555555555555556,\"#d8576b\"],[0.6666666666666666,\"#ed7953\"],[0.7777777777777778,\"#fb9f3a\"],[0.8888888888888888,\"#fdca26\"],[1.0,\"#f0f921\"]]}],\"surface\":[{\"type\":\"surface\",\"colorbar\":{\"outlinewidth\":0,\"ticks\":\"\"},\"colorscale\":[[0.0,\"#0d0887\"],[0.1111111111111111,\"#46039f\"],[0.2222222222222222,\"#7201a8\"],[0.3333333333333333,\"#9c179e\"],[0.4444444444444444,\"#bd3786\"],[0.5555555555555556,\"#d8576b\"],[0.6666666666666666,\"#ed7953\"],[0.7777777777777778,\"#fb9f3a\"],[0.8888888888888888,\"#fdca26\"],[1.0,\"#f0f921\"]]}],\"mesh3d\":[{\"type\":\"mesh3d\",\"colorbar\":{\"outlinewidth\":0,\"ticks\":\"\"}}],\"scatter\":[{\"fillpattern\":{\"fillmode\":\"overlay\",\"size\":10,\"solidity\":0.2},\"type\":\"scatter\"}],\"parcoords\":[{\"type\":\"parcoords\",\"line\":{\"colorbar\":{\"outlinewidth\":0,\"ticks\":\"\"}}}],\"scatterpolargl\":[{\"type\":\"scatterpolargl\",\"marker\":{\"colorbar\":{\"outlinewidth\":0,\"ticks\":\"\"}}}],\"bar\":[{\"error_x\":{\"color\":\"#2a3f5f\"},\"error_y\":{\"color\":\"#2a3f5f\"},\"marker\":{\"line\":{\"color\":\"#E5ECF6\",\"width\":0.5},\"pattern\":{\"fillmode\":\"overlay\",\"size\":10,\"solidity\":0.2}},\"type\":\"bar\"}],\"scattergeo\":[{\"type\":\"scattergeo\",\"marker\":{\"colorbar\":{\"outlinewidth\":0,\"ticks\":\"\"}}}],\"scatterpolar\":[{\"type\":\"scatterpolar\",\"marker\":{\"colorbar\":{\"outlinewidth\":0,\"ticks\":\"\"}}}],\"histogram\":[{\"marker\":{\"pattern\":{\"fillmode\":\"overlay\",\"size\":10,\"solidity\":0.2}},\"type\":\"histogram\"}],\"scattergl\":[{\"type\":\"scattergl\",\"marker\":{\"colorbar\":{\"outlinewidth\":0,\"ticks\":\"\"}}}],\"scatter3d\":[{\"type\":\"scatter3d\",\"line\":{\"colorbar\":{\"outlinewidth\":0,\"ticks\":\"\"}},\"marker\":{\"colorbar\":{\"outlinewidth\":0,\"ticks\":\"\"}}}],\"scattermapbox\":[{\"type\":\"scattermapbox\",\"marker\":{\"colorbar\":{\"outlinewidth\":0,\"ticks\":\"\"}}}],\"scatterternary\":[{\"type\":\"scatterternary\",\"marker\":{\"colorbar\":{\"outlinewidth\":0,\"ticks\":\"\"}}}],\"scattercarpet\":[{\"type\":\"scattercarpet\",\"marker\":{\"colorbar\":{\"outlinewidth\":0,\"ticks\":\"\"}}}],\"carpet\":[{\"aaxis\":{\"endlinecolor\":\"#2a3f5f\",\"gridcolor\":\"white\",\"linecolor\":\"white\",\"minorgridcolor\":\"white\",\"startlinecolor\":\"#2a3f5f\"},\"baxis\":{\"endlinecolor\":\"#2a3f5f\",\"gridcolor\":\"white\",\"linecolor\":\"white\",\"minorgridcolor\":\"white\",\"startlinecolor\":\"#2a3f5f\"},\"type\":\"carpet\"}],\"table\":[{\"cells\":{\"fill\":{\"color\":\"#EBF0F8\"},\"line\":{\"color\":\"white\"}},\"header\":{\"fill\":{\"color\":\"#C8D4E3\"},\"line\":{\"color\":\"white\"}},\"type\":\"table\"}],\"barpolar\":[{\"marker\":{\"line\":{\"color\":\"#E5ECF6\",\"width\":0.5},\"pattern\":{\"fillmode\":\"overlay\",\"size\":10,\"solidity\":0.2}},\"type\":\"barpolar\"}],\"pie\":[{\"automargin\":true,\"type\":\"pie\"}]},\"layout\":{\"autotypenumbers\":\"strict\",\"colorway\":[\"#636efa\",\"#EF553B\",\"#00cc96\",\"#ab63fa\",\"#FFA15A\",\"#19d3f3\",\"#FF6692\",\"#B6E880\",\"#FF97FF\",\"#FECB52\"],\"font\":{\"color\":\"#2a3f5f\"},\"hovermode\":\"closest\",\"hoverlabel\":{\"align\":\"left\"},\"paper_bgcolor\":\"white\",\"plot_bgcolor\":\"#E5ECF6\",\"polar\":{\"bgcolor\":\"#E5ECF6\",\"angularaxis\":{\"gridcolor\":\"white\",\"linecolor\":\"white\",\"ticks\":\"\"},\"radialaxis\":{\"gridcolor\":\"white\",\"linecolor\":\"white\",\"ticks\":\"\"}},\"ternary\":{\"bgcolor\":\"#E5ECF6\",\"aaxis\":{\"gridcolor\":\"white\",\"linecolor\":\"white\",\"ticks\":\"\"},\"baxis\":{\"gridcolor\":\"white\",\"linecolor\":\"white\",\"ticks\":\"\"},\"caxis\":{\"gridcolor\":\"white\",\"linecolor\":\"white\",\"ticks\":\"\"}},\"coloraxis\":{\"colorbar\":{\"outlinewidth\":0,\"ticks\":\"\"}},\"colorscale\":{\"sequential\":[[0.0,\"#0d0887\"],[0.1111111111111111,\"#46039f\"],[0.2222222222222222,\"#7201a8\"],[0.3333333333333333,\"#9c179e\"],[0.4444444444444444,\"#bd3786\"],[0.5555555555555556,\"#d8576b\"],[0.6666666666666666,\"#ed7953\"],[0.7777777777777778,\"#fb9f3a\"],[0.8888888888888888,\"#fdca26\"],[1.0,\"#f0f921\"]],\"sequentialminus\":[[0.0,\"#0d0887\"],[0.1111111111111111,\"#46039f\"],[0.2222222222222222,\"#7201a8\"],[0.3333333333333333,\"#9c179e\"],[0.4444444444444444,\"#bd3786\"],[0.5555555555555556,\"#d8576b\"],[0.6666666666666666,\"#ed7953\"],[0.7777777777777778,\"#fb9f3a\"],[0.8888888888888888,\"#fdca26\"],[1.0,\"#f0f921\"]],\"diverging\":[[0,\"#8e0152\"],[0.1,\"#c51b7d\"],[0.2,\"#de77ae\"],[0.3,\"#f1b6da\"],[0.4,\"#fde0ef\"],[0.5,\"#f7f7f7\"],[0.6,\"#e6f5d0\"],[0.7,\"#b8e186\"],[0.8,\"#7fbc41\"],[0.9,\"#4d9221\"],[1,\"#276419\"]]},\"xaxis\":{\"gridcolor\":\"white\",\"linecolor\":\"white\",\"ticks\":\"\",\"title\":{\"standoff\":15},\"zerolinecolor\":\"white\",\"automargin\":true,\"zerolinewidth\":2},\"yaxis\":{\"gridcolor\":\"white\",\"linecolor\":\"white\",\"ticks\":\"\",\"title\":{\"standoff\":15},\"zerolinecolor\":\"white\",\"automargin\":true,\"zerolinewidth\":2},\"scene\":{\"xaxis\":{\"backgroundcolor\":\"#E5ECF6\",\"gridcolor\":\"white\",\"linecolor\":\"white\",\"showbackground\":true,\"ticks\":\"\",\"zerolinecolor\":\"white\",\"gridwidth\":2},\"yaxis\":{\"backgroundcolor\":\"#E5ECF6\",\"gridcolor\":\"white\",\"linecolor\":\"white\",\"showbackground\":true,\"ticks\":\"\",\"zerolinecolor\":\"white\",\"gridwidth\":2},\"zaxis\":{\"backgroundcolor\":\"#E5ECF6\",\"gridcolor\":\"white\",\"linecolor\":\"white\",\"showbackground\":true,\"ticks\":\"\",\"zerolinecolor\":\"white\",\"gridwidth\":2}},\"shapedefaults\":{\"line\":{\"color\":\"#2a3f5f\"}},\"annotationdefaults\":{\"arrowcolor\":\"#2a3f5f\",\"arrowhead\":0,\"arrowwidth\":1},\"geo\":{\"bgcolor\":\"white\",\"landcolor\":\"#E5ECF6\",\"subunitcolor\":\"white\",\"showland\":true,\"showlakes\":true,\"lakecolor\":\"white\"},\"title\":{\"x\":0.05},\"mapbox\":{\"style\":\"light\"}}},\"xaxis\":{\"anchor\":\"y\",\"domain\":[0.0,1.0],\"title\":{\"text\":\"subscribers\"}},\"yaxis\":{\"anchor\":\"x\",\"domain\":[0.0,1.0],\"title\":{\"text\":\"count\"}},\"legend\":{\"tracegroupgap\":0},\"title\":{\"text\":\"Subscriber Count\"},\"barmode\":\"relative\"},                        {\"responsive\": true}                    ).then(function(){\n",
              "                            \n",
              "var gd = document.getElementById('30b108af-eace-4c9a-ad7c-3ddbabd86b7a');\n",
              "var x = new MutationObserver(function (mutations, observer) {{\n",
              "        var display = window.getComputedStyle(gd).display;\n",
              "        if (!display || display === 'none') {{\n",
              "            console.log([gd, 'removed!']);\n",
              "            Plotly.purge(gd);\n",
              "            observer.disconnect();\n",
              "        }}\n",
              "}});\n",
              "\n",
              "// Listen for the removal of the full notebook cells\n",
              "var notebookContainer = gd.closest('#notebook-container');\n",
              "if (notebookContainer) {{\n",
              "    x.observe(notebookContainer, {childList: true});\n",
              "}}\n",
              "\n",
              "// Listen for the clearing of the current output cell\n",
              "var outputEl = gd.closest('.output');\n",
              "if (outputEl) {{\n",
              "    x.observe(outputEl, {childList: true});\n",
              "}}\n",
              "\n",
              "                        })                };                            </script>        </div>\n",
              "</body>\n",
              "</html>"
            ]
          },
          "metadata": {}
        }
      ]
    },
    {
      "cell_type": "code",
      "source": [
        "import plotly.express as px\n",
        "\n",
        "fig = px.pie(df, values='subscribers', names='category', title='YouTube Categories')\n",
        "fig.show()"
      ],
      "metadata": {
        "colab": {
          "base_uri": "https://localhost:8080/",
          "height": 542
        },
        "id": "SfWO3CuLavgq",
        "outputId": "6d3a3778-0ed0-4e0a-ed82-5a7488f626c8"
      },
      "execution_count": null,
      "outputs": [
        {
          "output_type": "display_data",
          "data": {
            "text/html": [
              "<html>\n",
              "<head><meta charset=\"utf-8\" /></head>\n",
              "<body>\n",
              "    <div>            <script src=\"https://cdnjs.cloudflare.com/ajax/libs/mathjax/2.7.5/MathJax.js?config=TeX-AMS-MML_SVG\"></script><script type=\"text/javascript\">if (window.MathJax && window.MathJax.Hub && window.MathJax.Hub.Config) {window.MathJax.Hub.Config({SVG: {font: \"STIX-Web\"}});}</script>                <script type=\"text/javascript\">window.PlotlyConfig = {MathJaxConfig: 'local'};</script>\n",
              "        <script charset=\"utf-8\" src=\"https://cdn.plot.ly/plotly-2.35.2.min.js\"></script>                <div id=\"e8996e01-7756-4668-8105-818dcc62c1b0\" class=\"plotly-graph-div\" style=\"height:525px; width:100%;\"></div>            <script type=\"text/javascript\">                                    window.PLOTLYENV=window.PLOTLYENV || {};                                    if (document.getElementById(\"e8996e01-7756-4668-8105-818dcc62c1b0\")) {                    Plotly.newPlot(                        \"e8996e01-7756-4668-8105-818dcc62c1b0\",                        [{\"domain\":{\"x\":[0.0,1.0],\"y\":[0.0,1.0]},\"hovertemplate\":\"category=%{label}\\u003cbr\\u003esubscribers=%{value}\\u003cextra\\u003e\\u003c\\u002fextra\\u003e\",\"labels\":[\"Music\",\"Film & Animation\",\"Education\",\"Shows\",null,\"Gaming\",\"Entertainment\",\"People & Blogs\",\"People & Blogs\",null,\"Sports\",\"Music\",\"Entertainment\",\"Howto & Style\",\"People & Blogs\",null,\"Film & Animation\",\"Shows\",\"Music\",\"Music\",\"Music\",\"Music\",\"Entertainment\",\"Music\",\"Education\",\"Sports\",\"Education\",\"Film & Animation\",\"Entertainment\",\"Shows\",\"Music\",\"Music\",\"News & Politics\",\"Music\",\"Music\",\"Music\",\"Music\",\"Music\",\"Music\",\"Music\",\"Film & Animation\",\"Music\",\"Music\",\"Gaming\",\"Education\",\"Education\",\"Entertainment\",\"Gaming\",\"Entertainment\",\"Howto & Style\",\"Comedy\",\"Entertainment\",\"Entertainment\",\"Music\",\"Music\",\"Music\",\"Music\",\"Entertainment\",\"Entertainment\",\"Gaming\",\"Music\",\"People & Blogs\",\"Gaming\",\"Entertainment\",\"Entertainment\",\"Education\",\"Comedy\",\"Entertainment\",\"Film & Animation\",\"Entertainment\",\"People & Blogs\",\"Trailers\",\"Music\",\"Music\",\"Music\",\"People & Blogs\",\"People & Blogs\",\"Entertainment\",\"Music\",\"Entertainment\",\"Comedy\",null,\"Music\",\"People & Blogs\",\"Nonprofits & Activism\",\"People & Blogs\",\"Comedy\",\"Education\",\"Music\",\"Music\",\"Shows\",\"Entertainment\",\"Music\",\"Entertainment\",\"Music\",\"Gaming\",\"Gaming\",\"Trailers\",\"Gaming\",\"News & Politics\",\"People & Blogs\",\"Gaming\",\"People & Blogs\",\"Music\",\"Entertainment\",\"Music\",\"Shows\",\"Music\",\"Gaming\",\"Music\",\"Entertainment\",\"Comedy\",\"News & Politics\",\"Entertainment\",\"Music\",\"Entertainment\",\"Music\",\"Howto & Style\",\"Entertainment\",\"Entertainment\",\"Film & Animation\",\"Film & Animation\",\"Music\",\"Shows\",\"Music\",\"Education\",\"People & Blogs\",\"Music\",\"Music\",\"Music\",\"Gaming\",\"Comedy\",\"Entertainment\",\"Entertainment\",\"Music\",\"Gaming\",\"Music\",null,\"Entertainment\",\"Education\",\"Comedy\",\"Music\",\"Music\",\"Music\",\"Gaming\",\"Music\",\"Music\",\"Music\",\"Film & Animation\",\"Comedy\",\"Film & Animation\",\"Gaming\",\"Film & Animation\",\"Entertainment\",\"Entertainment\",\"Gaming\",\"Film & Animation\",\"Comedy\",\"Entertainment\",\"Education\",\"Entertainment\",\"Music\",\"Entertainment\",null,\"Comedy\",\"Education\",\"Music\",\"Science & Technology\",\"News & Politics\",\"Entertainment\",\"Education\",\"Music\",\"Music\",\"Education\",\"Comedy\",\"Gaming\",\"Gaming\",\"Music\",\"Entertainment\",\"Music\",null,\"Music\",\"Music\",\"Music\",\"Gaming\",\"People & Blogs\",\"Entertainment\",\"Entertainment\",\"Entertainment\",\"Music\",\"Music\",\"Film & Animation\",\"Comedy\",\"Music\",\"Music\",\"Music\",\"Howto & Style\",\"Music\",\"Entertainment\",\"Music\",\"People & Blogs\",\"Music\",null,\"Film & Animation\",\"Music\",\"Film & Animation\",\"Movies\",\"Entertainment\",\"Film & Animation\",\"Music\",\"Music\",\"Entertainment\",\"People & Blogs\",\"Howto & Style\",\"People & Blogs\",\"News & Politics\",\"Entertainment\",\"Entertainment\",\"Entertainment\",\"Gaming\",\"Music\",\"Entertainment\",\"Music\",\"Music\",\"Science & Technology\",\"Entertainment\",\"Howto & Style\",\"People & Blogs\",\"People & Blogs\",\"Music\",\"Entertainment\",\"Entertainment\",\"Music\",\"Music\",\"Gaming\",\"Film & Animation\",\"Entertainment\",\"Music\",\"Film & Animation\",\"People & Blogs\",\"Music\",\"Entertainment\",\"Gaming\",\"Science & Technology\",\"News & Politics\",\"Science & Technology\",\"Music\",\"Entertainment\",\"Entertainment\",\"People & Blogs\",\"Entertainment\",\"Music\",\"People & Blogs\",\"People & Blogs\",\"People & Blogs\",\"Entertainment\",\"Music\",\"Entertainment\",\"People & Blogs\",\"Music\",null,\"Music\",\"Film & Animation\",\"Gaming\",\"Film & Animation\",\"Film & Animation\",\"Entertainment\",\"Education\",\"Comedy\",\"Gaming\",\"Howto & Style\",\"Gaming\",\"Music\",\"Howto & Style\",\"Entertainment\",\"Music\",\"Entertainment\",\"Gaming\",\"People & Blogs\",\"Music\",\"Comedy\",\"Entertainment\",\"Film & Animation\",\"Comedy\",\"Shows\",\"Entertainment\",\"Music\",\"Entertainment\",\"People & Blogs\",\"Science & Technology\",\"People & Blogs\",\"People & Blogs\",\"Pets & Animals\",null,\"Music\",\"Entertainment\",\"Gaming\",\"Entertainment\",\"Gaming\",\"Music\",\"Music\",\"Music\",\"Movies\",\"Entertainment\",\"Science & Technology\",\"Howto & Style\",\"Film & Animation\",\"Comedy\",\"Entertainment\",\"Entertainment\",\"Film & Animation\",\"News & Politics\",\"Music\",\"Film & Animation\",\"Comedy\",\"Music\",null,\"People & Blogs\",\"Entertainment\",\"Comedy\",\"Entertainment\",\"Music\",\"Entertainment\",\"Education\",\"Music\",\"Entertainment\",\"People & Blogs\",\"Music\",\"Entertainment\",\"Entertainment\",\"Entertainment\",null,\"Entertainment\",\"People & Blogs\",\"Entertainment\",\"People & Blogs\",\"People & Blogs\",\"Education\",\"News & Politics\",\"Sports\",\"Entertainment\",\"People & Blogs\",\"Gaming\",\"People & Blogs\",\"Entertainment\",\"People & Blogs\",\"People & Blogs\",\"Entertainment\",\"Entertainment\",\"Music\",\"Music\",\"Film & Animation\",\"Comedy\",\"People & Blogs\",\"Gaming\",\"Music\",\"Entertainment\",\"Film & Animation\",\"Entertainment\",\"Gaming\",\"Entertainment\",\"Film & Animation\",\"Entertainment\",\"People & Blogs\",\"Science & Technology\",\"People & Blogs\",\"Gaming\",\"People & Blogs\",\"Education\",\"Music\",\"People & Blogs\",\"Entertainment\",\"Entertainment\",\"Entertainment\",\"Education\",\"Comedy\",\"People & Blogs\",\"Music\",\"Science & Technology\",\"Music\",\"People & Blogs\",\"Music\",\"People & Blogs\",\"Music\",\"Comedy\",\"Music\",\"People & Blogs\",\"Entertainment\",\"Entertainment\",\"Gaming\",\"Gaming\",\"Gaming\",\"Shows\",\"Music\",\"Education\",\"Entertainment\",\"Music\",\"Howto & Style\",\"Entertainment\",\"News & Politics\",\"Music\",null,\"Entertainment\",\"Comedy\",\"Entertainment\",\"Entertainment\",\"Education\",\"Film & Animation\",\"Gaming\",\"Gaming\",\"Shows\",\"Gaming\",\"Entertainment\",\"Entertainment\",\"Music\",\"Music\",\"Howto & Style\",\"Howto & Style\",\"Howto & Style\",\"Entertainment\",\"Gaming\",\"Education\",\"Entertainment\",\"Education\",\"Education\",\"Music\",\"Entertainment\",\"Gaming\",\"Entertainment\",\"Gaming\",\"Music\",\"Entertainment\",\"Autos & Vehicles\",null,\"Music\",\"Entertainment\",\"Comedy\",\"Music\",\"People & Blogs\",\"Entertainment\",\"People & Blogs\",\"Comedy\",\"Howto & Style\",\"Music\",\"Gaming\",\"People & Blogs\",\"Howto & Style\",\"Gaming\",\"Entertainment\",\"People & Blogs\",\"Film & Animation\",\"Comedy\",\"News & Politics\",\"Shows\",\"Entertainment\",\"Howto & Style\",\"People & Blogs\",\"Music\",\"Education\",\"Music\",\"Music\",\"Film & Animation\",\"People & Blogs\",\"Entertainment\",\"Gaming\",\"Gaming\",\"People & Blogs\",\"Entertainment\",\"Entertainment\",\"Music\",\"Entertainment\",\"Comedy\",\"Education\",\"Music\",\"Music\",\"Music\",\"Entertainment\",\"Comedy\",\"Howto & Style\",\"Science & Technology\",\"Howto & Style\",\"Science & Technology\",\"Entertainment\",\"Comedy\",\"Gaming\",\"People & Blogs\",\"Comedy\",\"Entertainment\",\"Film & Animation\",\"Music\",\"Gaming\",\"Music\",\"Education\",\"Comedy\",\"Entertainment\",\"Entertainment\",\"Music\",\"Film & Animation\",\"Entertainment\",\"Entertainment\",\"News & Politics\",\"People & Blogs\",\"Entertainment\",\"Film & Animation\",\"Music\",null,\"Education\",null,\"Entertainment\",\"Entertainment\",\"Entertainment\",\"Music\",\"Music\",\"People & Blogs\",\"Comedy\",\"Comedy\",\"Howto & Style\",\"Entertainment\",\"Entertainment\",\"Entertainment\",\"Education\",\"Gaming\",\"Gaming\",\"Entertainment\",\"Music\",\"Music\",\"Entertainment\",\"Entertainment\",\"People & Blogs\",\"Music\",\"Gaming\",\"Howto & Style\",\"People & Blogs\",\"People & Blogs\",\"People & Blogs\",\"Music\",\"Entertainment\",\"Film & Animation\",\"Music\",\"Gaming\",\"Entertainment\",\"Howto & Style\",\"Comedy\",\"Entertainment\",\"Music\",\"Entertainment\",\"Education\",\"Gaming\",\"Entertainment\",\"Gaming\",\"Entertainment\",\"Entertainment\",\"People & Blogs\",\"People & Blogs\",\"Entertainment\",\"Music\",\"Entertainment\",\"Music\",\"News & Politics\",\"Entertainment\",\"Entertainment\",\"People & Blogs\",\"Howto & Style\",\"Science & Technology\",\"Music\",\"Music\",\"Music\",\"News & Politics\",\"News & Politics\",\"Comedy\",\"Music\",\"Education\",\"Music\",\"Music\",\"Film & Animation\",\"Music\",\"News & Politics\",\"Comedy\",\"Entertainment\",\"Entertainment\",\"Film & Animation\",\"News & Politics\",\"Entertainment\",\"Entertainment\",\"Gaming\",\"Entertainment\",\"Entertainment\",\"Entertainment\",\"Music\",\"Music\",\"Comedy\",\"People & Blogs\",\"Music\",\"People & Blogs\",\"People & Blogs\",\"Comedy\",\"Music\",\"People & Blogs\",\"Comedy\",\"Entertainment\",\"Entertainment\",\"Music\",\"People & Blogs\",\"Gaming\",\"Gaming\",\"Entertainment\",\"People & Blogs\",\"Music\",\"Gaming\",\"Entertainment\",\"People & Blogs\",\"Music\",\"Film & Animation\",\"Music\",\"People & Blogs\",\"Music\",\"News & Politics\",\"News & Politics\",\"Music\",\"Entertainment\",\"Entertainment\",\"Film & Animation\",\"Entertainment\",\"Entertainment\",\"Entertainment\",\"Gaming\",\"Entertainment\",\"Howto & Style\",\"Gaming\",\"Sports\",\"Entertainment\",\"Entertainment\",\"Gaming\",\"Sports\",\"Gaming\",\"Gaming\",\"Music\",\"Entertainment\",\"Music\",\"Entertainment\",\"Howto & Style\",\"Howto & Style\",\"Sports\",\"People & Blogs\",\"Comedy\",\"Music\",\"Howto & Style\",\"People & Blogs\",\"Gaming\",\"Entertainment\",\"Entertainment\",\"Entertainment\",\"People & Blogs\",\"People & Blogs\",\"Entertainment\",\"Film & Animation\",\"Entertainment\",\"Howto & Style\",\"Entertainment\",\"Music\",\"Gaming\",\"Gaming\",\"Education\",\"Film & Animation\",\"People & Blogs\",\"Music\",\"Education\",\"People & Blogs\",\"Gaming\",\"Music\",\"Entertainment\",\"Entertainment\",\"News & Politics\",\"Music\",\"Entertainment\",\"Music\",\"Gaming\",\"Comedy\",\"People & Blogs\",\"People & Blogs\",\"Music\",\"Entertainment\",\"Howto & Style\",\"Music\",\"Comedy\",\"Music\",\"Music\",\"Music\",\"Gaming\",null,\"People & Blogs\",\"Gaming\",\"People & Blogs\",\"Howto & Style\",\"People & Blogs\",\"People & Blogs\",\"Gaming\",\"Music\",\"Comedy\",null,\"Film & Animation\",\"People & Blogs\",\"Gaming\",\"Entertainment\",\"Entertainment\",\"Entertainment\",\"Music\",\"People & Blogs\",\"Comedy\",\"Music\",\"Sports\",\"People & Blogs\",\"Music\",\"Music\",\"Music\",\"Music\",\"Howto & Style\",\"Sports\",\"Entertainment\",\"Education\",\"Howto & Style\",\"Howto & Style\",\"Comedy\",\"People & Blogs\",\"Comedy\",\"Education\",\"People & Blogs\",\"Entertainment\",\"Music\",\"Entertainment\",\"Entertainment\",\"Entertainment\",\"Entertainment\",\"Music\",\"Gaming\",\"News & Politics\",\"People & Blogs\",\"People & Blogs\",\"Science & Technology\",\"Education\",\"Entertainment\",\"Music\",\"Entertainment\",\"Entertainment\",\"Gaming\",\"Entertainment\",\"Entertainment\",\"Gaming\",\"Entertainment\",\"Pets & Animals\",\"Music\",\"Pets & Animals\",\"Entertainment\",\"Entertainment\",\"Howto & Style\",\"Entertainment\",\"Music\",\"Education\",\"Entertainment\",\"Education\",\"Entertainment\",\"Entertainment\",\"Howto & Style\",\"People & Blogs\",\"Entertainment\",\"Entertainment\",\"Entertainment\",\"Entertainment\",\"Music\",\"Music\",\"Entertainment\",\"Comedy\",\"Entertainment\",\"Education\",\"Sports\",\"People & Blogs\",\"People & Blogs\",\"News & Politics\",\"People & Blogs\",\"Entertainment\",null,\"Music\",\"Music\",\"Entertainment\",\"Comedy\",\"Music\",\"Music\",\"Entertainment\",\"People & Blogs\",\"Entertainment\",\"Entertainment\",\"Howto & Style\",\"Gaming\",\"Gaming\",\"Gaming\",\"Entertainment\",\"Music\",\"Education\",\"Education\",\"Howto & Style\",\"Film & Animation\",\"People & Blogs\",\"Entertainment\",null,\"Entertainment\",\"Pets & Animals\",\"Comedy\",\"Music\",\"Shows\",\"Howto & Style\",\"Entertainment\",\"Entertainment\",\"Comedy\",\"People & Blogs\",\"Entertainment\",\"News & Politics\",\"Music\",\"Music\",\"Music\",\"Gaming\",\"Sports\",\"Travel & Events\",\"Entertainment\",\"Science & Technology\",\"Music\",\"Music\",\"Music\",\"Gaming\",\"Gaming\",\"News & Politics\",\"Entertainment\",\"Comedy\",\"People & Blogs\",null,\"News & Politics\",\"People & Blogs\",\"People & Blogs\",\"Music\",\"Education\",null,\"Entertainment\",\"Comedy\",\"Entertainment\",\"Entertainment\",\"Entertainment\",\"Gaming\",\"Entertainment\",\"People & Blogs\",\"Entertainment\",\"Entertainment\",\"Gaming\",\"Music\",\"Music\",\"News & Politics\",\"Entertainment\",\"Music\",\"Shows\",\"Comedy\",\"Entertainment\",\"Science & Technology\",\"Gaming\",\"Gaming\",\"Music\",null,\"Gaming\",\"Gaming\",\"Nonprofits & Activism\",\"Howto & Style\",\"Comedy\",\"Science & Technology\",\"Film & Animation\",\"Music\",\"Gaming\",\"Music\",\"Education\",\"Film & Animation\",\"Music\",\"Music\",\"Education\",\"People & Blogs\",\"People & Blogs\",\"Comedy\",\"Entertainment\",\"Comedy\",\"Gaming\",\"Entertainment\",\"Comedy\",\"People & Blogs\",\"Music\",\"Music\",\"News & Politics\",\"Comedy\",\"People & Blogs\",\"Gaming\",\"Howto & Style\",\"Music\",\"Entertainment\",\"People & Blogs\",\"Entertainment\",\"Music\",\"Music\",\"Entertainment\",\"Gaming\",\"Comedy\",\"People & Blogs\",\"People & Blogs\",\"Education\",\"Education\",\"Music\",\"Shows\",\"People & Blogs\",\"Music\",\"Howto & Style\",\"Shows\",\"Entertainment\",\"Pets & Animals\",\"Science & Technology\",\"Howto & Style\",\"Howto & Style\",\"Comedy\",\"Film & Animation\",\"People & Blogs\",\"Entertainment\",\"Entertainment\",\"Film & Animation\",\"Music\",\"Music\",\"Music\",\"Gaming\",\"Pets & Animals\",\"Music\",\"Entertainment\",\"Gaming\",\"Entertainment\",\"Science & Technology\",\"People & Blogs\",\"Film & Animation\",\"Film & Animation\",\"Howto & Style\",\"Entertainment\",\"Music\",\"Comedy\",\"Music\",\"People & Blogs\",\"People & Blogs\",\"Music\",\"Entertainment\",\"Entertainment\",\"Comedy\",\"Film & Animation\",\"Gaming\",\"Gaming\",\"Entertainment\",\"Entertainment\",\"People & Blogs\",\"Gaming\",\"Entertainment\",\"Entertainment\",\"Entertainment\",\"Entertainment\",null,\"Film & Animation\",\"Gaming\",\"Entertainment\",\"People & Blogs\",\"Comedy\",null,\"Music\",\"Entertainment\",\"Music\",\"People & Blogs\",\"Film & Animation\",\"Howto & Style\",\"Science & Technology\",\"Gaming\",\"Howto & Style\",\"People & Blogs\",null,\"Entertainment\",\"News & Politics\",\"Entertainment\",\"Gaming\",\"Music\",\"Music\",null,\"Entertainment\",\"Comedy\",\"Gaming\",\"Gaming\",\"Music\",\"People & Blogs\",\"Entertainment\",\"Entertainment\",\"Education\",\"Film & Animation\",\"Gaming\",\"Music\",\"Gaming\",\"Gaming\",\"People & Blogs\"],\"legendgroup\":\"\",\"name\":\"\",\"showlegend\":true,\"values\":[222000000,154000000,140000000,139000000,116000000,111000000,102000000,99700000,99200000,92700000,90200000,86700000,85100000,77100000,76200000,75100000,74100000,70600000,70000000,69700000,67800000,65900000,63000000,61300000,59400000,58100000,57700000,57600000,55700000,55100000,53400000,53000000,52900000,52800000,52500000,52400000,52200000,51700000,51600000,49800000,47600000,47100000,46200000,46100000,45700000,45600000,45600000,45100000,44300000,43900000,43900000,43300000,43300000,43200000,42700000,42500000,42200000,41500000,41300000,41200000,40800000,40600000,40400000,39700000,39600000,39500000,39200000,38800000,38700000,38300000,37800000,37800000,37600000,37600000,37400000,37200000,37200000,37000000,36800000,36500000,36300000,36200000,36000000,35900000,35900000,35800000,35700000,35300000,35300000,35200000,35100000,34400000,34300000,33600000,33600000,33500000,33400000,33400000,33300000,33300000,33200000,33200000,33100000,33000000,32900000,32800000,32700000,32700000,32500000,32300000,32200000,32100000,31900000,31900000,31800000,31600000,31500000,31400000,31000000,30900000,30900000,30800000,30800000,30700000,30600000,30500000,30500000,30400000,30300000,30100000,30000000,29900000,29900000,29700000,29600000,29600000,29500000,29400000,29400000,29200000,29200000,29100000,28700000,28700000,28600000,28600000,28600000,28600000,28600000,28600000,28400000,28400000,28200000,28100000,28100000,28100000,28000000,28000000,27900000,27700000,27600000,27400000,27200000,27100000,27100000,26900000,26800000,26800000,26700000,26600000,26500000,26400000,26400000,26300000,26300000,26300000,26200000,26100000,26100000,25900000,25900000,25800000,25800000,25800000,25700000,25600000,25500000,25500000,25400000,25200000,25200000,25100000,25000000,24900000,24900000,24900000,24900000,24800000,24700000,24600000,24600000,24500000,24400000,24400000,24300000,24300000,24300000,24300000,24300000,24200000,24200000,24100000,24000000,24000000,24000000,23900000,23900000,23900000,23900000,23900000,23500000,23500000,23400000,23400000,23400000,23300000,23200000,23200000,23100000,23100000,23000000,22900000,22900000,22800000,22800000,22700000,22500000,22400000,22400000,22300000,22300000,22300000,22300000,22300000,22200000,22200000,22100000,22100000,22100000,22100000,22100000,22000000,22000000,21900000,21900000,21700000,21700000,21700000,21700000,21600000,21600000,21500000,21500000,21500000,21400000,21200000,21200000,21100000,21100000,21000000,21000000,20900000,20900000,20900000,20900000,20800000,20800000,20800000,20800000,20700000,20700000,20700000,20600000,20500000,20400000,20400000,20400000,20400000,20400000,20400000,20400000,20300000,20300000,20200000,20200000,20100000,20100000,20100000,20100000,20000000,20000000,20000000,20000000,20000000,20000000,19900000,19900000,19900000,19800000,19800000,19800000,19700000,19700000,19700000,19600000,19600000,19600000,19600000,19500000,19500000,19400000,19400000,19400000,19400000,19300000,19300000,19200000,19200000,19200000,19200000,19200000,19100000,19100000,19100000,19100000,19100000,19000000,19000000,19000000,18900000,18800000,18800000,18800000,18700000,18700000,18700000,18700000,18600000,18600000,18600000,18500000,18500000,18500000,18500000,18500000,18400000,18300000,18300000,18300000,18200000,18200000,18200000,18200000,18200000,18200000,18200000,18200000,18200000,18100000,18100000,18100000,18100000,18100000,18000000,18000000,18000000,18000000,18000000,18000000,17900000,17900000,17800000,17800000,17800000,17800000,17800000,17800000,17700000,17700000,17700000,17700000,17700000,17600000,17600000,17600000,17600000,17600000,17600000,17500000,17400000,17400000,17400000,17400000,17400000,17300000,17300000,17300000,17300000,17200000,17200000,17200000,17200000,17200000,17200000,17100000,17100000,17100000,17100000,17100000,17000000,17000000,17000000,17000000,17000000,16900000,16900000,16900000,16900000,16800000,16800000,16800000,16800000,16700000,16700000,16700000,16700000,16700000,16600000,16600000,16600000,16500000,16500000,16500000,16400000,16400000,16400000,16400000,16300000,16300000,16300000,16300000,16300000,16200000,16200000,16200000,16200000,16200000,16200000,16100000,16100000,16100000,16100000,16100000,16100000,16100000,16100000,16100000,16000000,16000000,16000000,16000000,16000000,15900000,15900000,15900000,15900000,15900000,15900000,15900000,15900000,15900000,15900000,15800000,15800000,15800000,15800000,15800000,15700000,15700000,15700000,15700000,15700000,15700000,15700000,15700000,15700000,15600000,15600000,15600000,15500000,15500000,15500000,15500000,15400000,15400000,15400000,15400000,15300000,15300000,15200000,15200000,15200000,15200000,15200000,15200000,15200000,15200000,15100000,15100000,15100000,15100000,15100000,15100000,15000000,15000000,15000000,15000000,15000000,15000000,15000000,15000000,15000000,15000000,15000000,14900000,14900000,14900000,14900000,14900000,14900000,14900000,14900000,14900000,14800000,14800000,14800000,14800000,14800000,14800000,14800000,14800000,14800000,14800000,14800000,14800000,14700000,14700000,14700000,14700000,14700000,14700000,14700000,14700000,14700000,14600000,14600000,14600000,14600000,14600000,14600000,14600000,14600000,14600000,14500000,14500000,14500000,14500000,14500000,14500000,14500000,14500000,14500000,14500000,14500000,14500000,14500000,14500000,14500000,14400000,14400000,14400000,14400000,14400000,14400000,14400000,14400000,14400000,14400000,14400000,14400000,14400000,14300000,14300000,14300000,14300000,14300000,14300000,14200000,14200000,14200000,14200000,14200000,14200000,14200000,14200000,14100000,14100000,14100000,14100000,14100000,14100000,14100000,14100000,14100000,14000000,14000000,14000000,14000000,14000000,14000000,13900000,13900000,13900000,13900000,13900000,13900000,13900000,13900000,13900000,13900000,13900000,13900000,13800000,13800000,13800000,13800000,13800000,13800000,13700000,13700000,13700000,13700000,13700000,13700000,13700000,13700000,13700000,13700000,13600000,13600000,13600000,13600000,13600000,13500000,13500000,13500000,13500000,13500000,13500000,13500000,13400000,13400000,13400000,13400000,13400000,13400000,13400000,13400000,13400000,13400000,13400000,13400000,13400000,13400000,13400000,13300000,13300000,13300000,13300000,13200000,13200000,13200000,13200000,13200000,13200000,13100000,13100000,13100000,13100000,13100000,13100000,13100000,13100000,13100000,13000000,13000000,13000000,13000000,13000000,13000000,13000000,13000000,12900000,12900000,12900000,12900000,12900000,12900000,12900000,12900000,12900000,12900000,12900000,12900000,12900000,12800000,12800000,12800000,12800000,12800000,12800000,12800000,12800000,12800000,12800000,12800000,12800000,12800000,12800000,12800000,12700000,12700000,12700000,12700000,12700000,12700000,12700000,12700000,12600000,12600000,12600000,12600000,12600000,12600000,12600000,12600000,12600000,12600000,12600000,12600000,12600000,12600000,12600000,12500000,12500000,12500000,12500000,12500000,12500000,12500000,12500000,12500000,12500000,12500000,12500000,12500000,12400000,12400000,12400000,12400000,12400000,12400000,12400000,12400000,12400000,12400000,12400000,12400000,12400000,12400000,12400000,12400000,12400000,12400000,12400000,12400000,12300000,12300000,12300000,12300000,12300000,12300000,12300000,12200000,12200000,12200000,12200000,12200000,12200000,12200000,12200000,12200000,12200000,12200000,12200000,12100000,12100000,12100000,12100000,12100000,12100000,12100000,12100000,12100000,12000000,12000000,12000000,12000000,12000000,12000000,12000000,12000000,12000000,12000000,12000000,12000000,11900000,11900000,11900000,11900000,11900000,11900000,11900000,11900000,11900000,11900000,11900000,11900000,11900000,11900000,11900000,11800000,11800000,11800000,11800000,11800000,11800000,11800000,11800000,11800000,11800000,11800000,11800000,11800000,11800000,11800000,11800000,11800000,11800000,11800000,11700000,11700000,11700000,11700000,11700000,11700000,11700000,11700000,11700000,11700000,11700000,11700000,11700000,11700000,11700000,11600000,11600000,11600000,11600000,11600000,11600000,11600000,11600000,11600000,11600000,11500000,11500000,11500000,11500000,11500000,11500000,11500000,11500000,11500000,11500000,11500000,11400000,11400000,11400000,11400000,11400000,11400000,11400000,11400000,11400000,11400000,11400000,11400000,11400000,11400000,11400000,11300000,11300000,11300000,11300000,11300000,11300000,11300000,11300000,11300000,11300000,11300000,11300000,11300000,11300000,11300000,11300000,11300000,11300000,11200000,11200000,11200000,11200000,11200000,11200000,11200000,11200000,11200000,11200000,11200000,11200000,11200000,11200000,11200000,11200000,11200000,11100000,11100000,11100000,11100000,11100000,11100000,11100000,11100000,11100000,11100000,11100000,11100000,11100000,11100000,11100000,11100000,11100000,11100000,11100000,11100000,11100000,11000000,11000000,11000000,11000000,11000000,11000000,11000000,11000000,11000000,11000000,11000000,11000000,11000000,11000000,10900000,10900000,10900000,10900000,10900000,10900000,10900000,10900000,10900000],\"type\":\"pie\"}],                        {\"template\":{\"data\":{\"histogram2dcontour\":[{\"type\":\"histogram2dcontour\",\"colorbar\":{\"outlinewidth\":0,\"ticks\":\"\"},\"colorscale\":[[0.0,\"#0d0887\"],[0.1111111111111111,\"#46039f\"],[0.2222222222222222,\"#7201a8\"],[0.3333333333333333,\"#9c179e\"],[0.4444444444444444,\"#bd3786\"],[0.5555555555555556,\"#d8576b\"],[0.6666666666666666,\"#ed7953\"],[0.7777777777777778,\"#fb9f3a\"],[0.8888888888888888,\"#fdca26\"],[1.0,\"#f0f921\"]]}],\"choropleth\":[{\"type\":\"choropleth\",\"colorbar\":{\"outlinewidth\":0,\"ticks\":\"\"}}],\"histogram2d\":[{\"type\":\"histogram2d\",\"colorbar\":{\"outlinewidth\":0,\"ticks\":\"\"},\"colorscale\":[[0.0,\"#0d0887\"],[0.1111111111111111,\"#46039f\"],[0.2222222222222222,\"#7201a8\"],[0.3333333333333333,\"#9c179e\"],[0.4444444444444444,\"#bd3786\"],[0.5555555555555556,\"#d8576b\"],[0.6666666666666666,\"#ed7953\"],[0.7777777777777778,\"#fb9f3a\"],[0.8888888888888888,\"#fdca26\"],[1.0,\"#f0f921\"]]}],\"heatmap\":[{\"type\":\"heatmap\",\"colorbar\":{\"outlinewidth\":0,\"ticks\":\"\"},\"colorscale\":[[0.0,\"#0d0887\"],[0.1111111111111111,\"#46039f\"],[0.2222222222222222,\"#7201a8\"],[0.3333333333333333,\"#9c179e\"],[0.4444444444444444,\"#bd3786\"],[0.5555555555555556,\"#d8576b\"],[0.6666666666666666,\"#ed7953\"],[0.7777777777777778,\"#fb9f3a\"],[0.8888888888888888,\"#fdca26\"],[1.0,\"#f0f921\"]]}],\"heatmapgl\":[{\"type\":\"heatmapgl\",\"colorbar\":{\"outlinewidth\":0,\"ticks\":\"\"},\"colorscale\":[[0.0,\"#0d0887\"],[0.1111111111111111,\"#46039f\"],[0.2222222222222222,\"#7201a8\"],[0.3333333333333333,\"#9c179e\"],[0.4444444444444444,\"#bd3786\"],[0.5555555555555556,\"#d8576b\"],[0.6666666666666666,\"#ed7953\"],[0.7777777777777778,\"#fb9f3a\"],[0.8888888888888888,\"#fdca26\"],[1.0,\"#f0f921\"]]}],\"contourcarpet\":[{\"type\":\"contourcarpet\",\"colorbar\":{\"outlinewidth\":0,\"ticks\":\"\"}}],\"contour\":[{\"type\":\"contour\",\"colorbar\":{\"outlinewidth\":0,\"ticks\":\"\"},\"colorscale\":[[0.0,\"#0d0887\"],[0.1111111111111111,\"#46039f\"],[0.2222222222222222,\"#7201a8\"],[0.3333333333333333,\"#9c179e\"],[0.4444444444444444,\"#bd3786\"],[0.5555555555555556,\"#d8576b\"],[0.6666666666666666,\"#ed7953\"],[0.7777777777777778,\"#fb9f3a\"],[0.8888888888888888,\"#fdca26\"],[1.0,\"#f0f921\"]]}],\"surface\":[{\"type\":\"surface\",\"colorbar\":{\"outlinewidth\":0,\"ticks\":\"\"},\"colorscale\":[[0.0,\"#0d0887\"],[0.1111111111111111,\"#46039f\"],[0.2222222222222222,\"#7201a8\"],[0.3333333333333333,\"#9c179e\"],[0.4444444444444444,\"#bd3786\"],[0.5555555555555556,\"#d8576b\"],[0.6666666666666666,\"#ed7953\"],[0.7777777777777778,\"#fb9f3a\"],[0.8888888888888888,\"#fdca26\"],[1.0,\"#f0f921\"]]}],\"mesh3d\":[{\"type\":\"mesh3d\",\"colorbar\":{\"outlinewidth\":0,\"ticks\":\"\"}}],\"scatter\":[{\"fillpattern\":{\"fillmode\":\"overlay\",\"size\":10,\"solidity\":0.2},\"type\":\"scatter\"}],\"parcoords\":[{\"type\":\"parcoords\",\"line\":{\"colorbar\":{\"outlinewidth\":0,\"ticks\":\"\"}}}],\"scatterpolargl\":[{\"type\":\"scatterpolargl\",\"marker\":{\"colorbar\":{\"outlinewidth\":0,\"ticks\":\"\"}}}],\"bar\":[{\"error_x\":{\"color\":\"#2a3f5f\"},\"error_y\":{\"color\":\"#2a3f5f\"},\"marker\":{\"line\":{\"color\":\"#E5ECF6\",\"width\":0.5},\"pattern\":{\"fillmode\":\"overlay\",\"size\":10,\"solidity\":0.2}},\"type\":\"bar\"}],\"scattergeo\":[{\"type\":\"scattergeo\",\"marker\":{\"colorbar\":{\"outlinewidth\":0,\"ticks\":\"\"}}}],\"scatterpolar\":[{\"type\":\"scatterpolar\",\"marker\":{\"colorbar\":{\"outlinewidth\":0,\"ticks\":\"\"}}}],\"histogram\":[{\"marker\":{\"pattern\":{\"fillmode\":\"overlay\",\"size\":10,\"solidity\":0.2}},\"type\":\"histogram\"}],\"scattergl\":[{\"type\":\"scattergl\",\"marker\":{\"colorbar\":{\"outlinewidth\":0,\"ticks\":\"\"}}}],\"scatter3d\":[{\"type\":\"scatter3d\",\"line\":{\"colorbar\":{\"outlinewidth\":0,\"ticks\":\"\"}},\"marker\":{\"colorbar\":{\"outlinewidth\":0,\"ticks\":\"\"}}}],\"scattermapbox\":[{\"type\":\"scattermapbox\",\"marker\":{\"colorbar\":{\"outlinewidth\":0,\"ticks\":\"\"}}}],\"scatterternary\":[{\"type\":\"scatterternary\",\"marker\":{\"colorbar\":{\"outlinewidth\":0,\"ticks\":\"\"}}}],\"scattercarpet\":[{\"type\":\"scattercarpet\",\"marker\":{\"colorbar\":{\"outlinewidth\":0,\"ticks\":\"\"}}}],\"carpet\":[{\"aaxis\":{\"endlinecolor\":\"#2a3f5f\",\"gridcolor\":\"white\",\"linecolor\":\"white\",\"minorgridcolor\":\"white\",\"startlinecolor\":\"#2a3f5f\"},\"baxis\":{\"endlinecolor\":\"#2a3f5f\",\"gridcolor\":\"white\",\"linecolor\":\"white\",\"minorgridcolor\":\"white\",\"startlinecolor\":\"#2a3f5f\"},\"type\":\"carpet\"}],\"table\":[{\"cells\":{\"fill\":{\"color\":\"#EBF0F8\"},\"line\":{\"color\":\"white\"}},\"header\":{\"fill\":{\"color\":\"#C8D4E3\"},\"line\":{\"color\":\"white\"}},\"type\":\"table\"}],\"barpolar\":[{\"marker\":{\"line\":{\"color\":\"#E5ECF6\",\"width\":0.5},\"pattern\":{\"fillmode\":\"overlay\",\"size\":10,\"solidity\":0.2}},\"type\":\"barpolar\"}],\"pie\":[{\"automargin\":true,\"type\":\"pie\"}]},\"layout\":{\"autotypenumbers\":\"strict\",\"colorway\":[\"#636efa\",\"#EF553B\",\"#00cc96\",\"#ab63fa\",\"#FFA15A\",\"#19d3f3\",\"#FF6692\",\"#B6E880\",\"#FF97FF\",\"#FECB52\"],\"font\":{\"color\":\"#2a3f5f\"},\"hovermode\":\"closest\",\"hoverlabel\":{\"align\":\"left\"},\"paper_bgcolor\":\"white\",\"plot_bgcolor\":\"#E5ECF6\",\"polar\":{\"bgcolor\":\"#E5ECF6\",\"angularaxis\":{\"gridcolor\":\"white\",\"linecolor\":\"white\",\"ticks\":\"\"},\"radialaxis\":{\"gridcolor\":\"white\",\"linecolor\":\"white\",\"ticks\":\"\"}},\"ternary\":{\"bgcolor\":\"#E5ECF6\",\"aaxis\":{\"gridcolor\":\"white\",\"linecolor\":\"white\",\"ticks\":\"\"},\"baxis\":{\"gridcolor\":\"white\",\"linecolor\":\"white\",\"ticks\":\"\"},\"caxis\":{\"gridcolor\":\"white\",\"linecolor\":\"white\",\"ticks\":\"\"}},\"coloraxis\":{\"colorbar\":{\"outlinewidth\":0,\"ticks\":\"\"}},\"colorscale\":{\"sequential\":[[0.0,\"#0d0887\"],[0.1111111111111111,\"#46039f\"],[0.2222222222222222,\"#7201a8\"],[0.3333333333333333,\"#9c179e\"],[0.4444444444444444,\"#bd3786\"],[0.5555555555555556,\"#d8576b\"],[0.6666666666666666,\"#ed7953\"],[0.7777777777777778,\"#fb9f3a\"],[0.8888888888888888,\"#fdca26\"],[1.0,\"#f0f921\"]],\"sequentialminus\":[[0.0,\"#0d0887\"],[0.1111111111111111,\"#46039f\"],[0.2222222222222222,\"#7201a8\"],[0.3333333333333333,\"#9c179e\"],[0.4444444444444444,\"#bd3786\"],[0.5555555555555556,\"#d8576b\"],[0.6666666666666666,\"#ed7953\"],[0.7777777777777778,\"#fb9f3a\"],[0.8888888888888888,\"#fdca26\"],[1.0,\"#f0f921\"]],\"diverging\":[[0,\"#8e0152\"],[0.1,\"#c51b7d\"],[0.2,\"#de77ae\"],[0.3,\"#f1b6da\"],[0.4,\"#fde0ef\"],[0.5,\"#f7f7f7\"],[0.6,\"#e6f5d0\"],[0.7,\"#b8e186\"],[0.8,\"#7fbc41\"],[0.9,\"#4d9221\"],[1,\"#276419\"]]},\"xaxis\":{\"gridcolor\":\"white\",\"linecolor\":\"white\",\"ticks\":\"\",\"title\":{\"standoff\":15},\"zerolinecolor\":\"white\",\"automargin\":true,\"zerolinewidth\":2},\"yaxis\":{\"gridcolor\":\"white\",\"linecolor\":\"white\",\"ticks\":\"\",\"title\":{\"standoff\":15},\"zerolinecolor\":\"white\",\"automargin\":true,\"zerolinewidth\":2},\"scene\":{\"xaxis\":{\"backgroundcolor\":\"#E5ECF6\",\"gridcolor\":\"white\",\"linecolor\":\"white\",\"showbackground\":true,\"ticks\":\"\",\"zerolinecolor\":\"white\",\"gridwidth\":2},\"yaxis\":{\"backgroundcolor\":\"#E5ECF6\",\"gridcolor\":\"white\",\"linecolor\":\"white\",\"showbackground\":true,\"ticks\":\"\",\"zerolinecolor\":\"white\",\"gridwidth\":2},\"zaxis\":{\"backgroundcolor\":\"#E5ECF6\",\"gridcolor\":\"white\",\"linecolor\":\"white\",\"showbackground\":true,\"ticks\":\"\",\"zerolinecolor\":\"white\",\"gridwidth\":2}},\"shapedefaults\":{\"line\":{\"color\":\"#2a3f5f\"}},\"annotationdefaults\":{\"arrowcolor\":\"#2a3f5f\",\"arrowhead\":0,\"arrowwidth\":1},\"geo\":{\"bgcolor\":\"white\",\"landcolor\":\"#E5ECF6\",\"subunitcolor\":\"white\",\"showland\":true,\"showlakes\":true,\"lakecolor\":\"white\"},\"title\":{\"x\":0.05},\"mapbox\":{\"style\":\"light\"}}},\"legend\":{\"tracegroupgap\":0},\"title\":{\"text\":\"YouTube Categories\"}},                        {\"responsive\": true}                    ).then(function(){\n",
              "                            \n",
              "var gd = document.getElementById('e8996e01-7756-4668-8105-818dcc62c1b0');\n",
              "var x = new MutationObserver(function (mutations, observer) {{\n",
              "        var display = window.getComputedStyle(gd).display;\n",
              "        if (!display || display === 'none') {{\n",
              "            console.log([gd, 'removed!']);\n",
              "            Plotly.purge(gd);\n",
              "            observer.disconnect();\n",
              "        }}\n",
              "}});\n",
              "\n",
              "// Listen for the removal of the full notebook cells\n",
              "var notebookContainer = gd.closest('#notebook-container');\n",
              "if (notebookContainer) {{\n",
              "    x.observe(notebookContainer, {childList: true});\n",
              "}}\n",
              "\n",
              "// Listen for the clearing of the current output cell\n",
              "var outputEl = gd.closest('.output');\n",
              "if (outputEl) {{\n",
              "    x.observe(outputEl, {childList: true});\n",
              "}}\n",
              "\n",
              "                        })                };                            </script>        </div>\n",
              "</body>\n",
              "</html>"
            ]
          },
          "metadata": {}
        }
      ]
    },
    {
      "cell_type": "code",
      "source": [
        "import plotly.express as px\n",
        "\n",
        "fig = px.box(df, y='started', title='Years Started')\n",
        "fig.show()"
      ],
      "metadata": {
        "colab": {
          "base_uri": "https://localhost:8080/",
          "height": 542
        },
        "id": "rEakK0cxbZzj",
        "outputId": "a2ab7cc1-8595-404b-b0b7-b49472eef751"
      },
      "execution_count": null,
      "outputs": [
        {
          "output_type": "display_data",
          "data": {
            "text/html": [
              "<html>\n",
              "<head><meta charset=\"utf-8\" /></head>\n",
              "<body>\n",
              "    <div>            <script src=\"https://cdnjs.cloudflare.com/ajax/libs/mathjax/2.7.5/MathJax.js?config=TeX-AMS-MML_SVG\"></script><script type=\"text/javascript\">if (window.MathJax && window.MathJax.Hub && window.MathJax.Hub.Config) {window.MathJax.Hub.Config({SVG: {font: \"STIX-Web\"}});}</script>                <script type=\"text/javascript\">window.PlotlyConfig = {MathJaxConfig: 'local'};</script>\n",
              "        <script charset=\"utf-8\" src=\"https://cdn.plot.ly/plotly-2.35.2.min.js\"></script>                <div id=\"4cad64f8-f325-49c2-b16f-c2a2f76ba91d\" class=\"plotly-graph-div\" style=\"height:525px; width:100%;\"></div>            <script type=\"text/javascript\">                                    window.PLOTLYENV=window.PLOTLYENV || {};                                    if (document.getElementById(\"4cad64f8-f325-49c2-b16f-c2a2f76ba91d\")) {                    Plotly.newPlot(                        \"4cad64f8-f325-49c2-b16f-c2a2f76ba91d\",                        [{\"alignmentgroup\":\"True\",\"hovertemplate\":\"started=%{y}\\u003cextra\\u003e\\u003c\\u002fextra\\u003e\",\"legendgroup\":\"\",\"marker\":{\"color\":\"#636efa\"},\"name\":\"\",\"notched\":false,\"offsetgroup\":\"\",\"orientation\":\"v\",\"showlegend\":false,\"x0\":\" \",\"xaxis\":\"x\",\"y\":[2006,2015,2006,2006,2013,2010,2012,2015,2016,2013,2007,2014,2018,2016,2016,2013,2012,2007,2012,2007,2008,2012,2005,2010,2011,2009,2013,2006,2015,2008,2014,2007,2009,2007,2011,2009,2006,2011,2007,2014,2006,2006,2013,2013,2013,2014,2014,2011,2006,2017,2013,2013,2011,2008,2009,2014,2012,2017,2006,2014,2012,2008,2011,2007,2005,2011,2012,2016,2011,2006,2014,2005,2014,2015,2010,2005,2016,2012,2011,2016,2014,2013,2006,2015,2009,2017,2017,2006,2006,2016,2014,2013,2015,2017,2011,2015,2008,2009,2012,1970,2012,2018,2015,2014,2015,2016,2014,2011,2013,2011,2016,2013,2006,2008,2009,2014,2013,2017,2007,2014,2008,2006,2006,2006,2012,2008,2016,2012,2006,2010,2014,2006,2014,2013,2007,2012,2011,2013,2012,2016,2006,2011,2018,2008,2007,2009,2012,2006,2013,2009,2014,2020,2013,2008,2018,2017,2015,2010,2006,2015,2006,2013,2015,2018,2016,2014,2009,2012,2007,2014,2016,2013,2008,2014,2011,2016,2012,2008,2011,2008,2018,2005,2009,2009,2011,2012,2015,2015,2011,2008,2009,2012,2005,2009,2013,2005,2009,2009,2017,2007,2015,2013,2019,2016,2009,2016,2012,2012,2013,2011,2011,2012,2015,2011,2012,2016,2009,2011,2015,2011,2010,2015,2008,2006,2016,2014,2015,2017,2014,2012,2011,2006,2007,2014,2014,2014,2006,2016,2015,2014,2012,2017,2014,2011,2015,2015,2010,2011,2018,2015,2010,2010,2018,2010,2008,2014,2016,2006,2006,2007,2019,2014,2014,2012,2013,2014,2006,2018,2012,2009,2016,2013,2011,2018,2014,2013,2019,2012,2016,2009,2011,2021,2015,2009,2013,2007,2011,2016,2013,2006,2018,2011,2014,2019,2009,2007,2015,2006,2011,2006,2010,2012,2011,2012,2011,2017,2006,2010,2006,2013,2007,2013,2011,2014,2016,2012,2018,2005,2005,2014,2009,2005,2013,2013,2006,2006,2016,2010,2015,2014,2009,2013,2014,2015,2013,2017,2017,2013,2017,2005,2006,2016,2013,2016,2017,2016,2016,2008,2020,2018,2007,2011,2011,2016,2013,2009,2015,2013,2011,2014,2007,2012,2013,2014,2010,2017,2016,2014,2019,2007,2015,2009,2015,2013,2018,2014,2017,2013,2007,2009,2011,2010,2016,2008,2015,2015,2017,2011,2008,2012,2006,2008,2009,2011,2018,2014,2011,2018,2016,2013,2010,2018,2012,2013,2010,2007,2011,2016,2012,2011,2016,2009,2013,2013,2009,2014,2018,2011,2017,2012,2013,2017,2015,2019,2018,2013,2020,2006,2012,2006,2008,2013,2013,2012,2011,2007,2014,2013,2014,2012,2019,2012,2006,2014,2014,2018,2017,2012,2007,2012,2016,2013,2015,2013,2009,2011,2016,2017,2014,2008,2013,2009,2017,2015,2009,2015,2017,2015,2014,2011,2014,2011,2015,2016,2007,2015,2005,2011,2009,2008,2006,2005,2018,2017,2011,2015,2011,2014,2011,2006,2012,2005,2015,2014,2012,2010,2011,2020,2015,2016,2014,2013,2015,2013,2013,2019,2014,2015,2015,2011,2014,2009,2010,2018,2017,2012,2012,2015,2012,2015,2014,2017,2013,2010,2014,2012,2019,2019,2018,2016,2013,2017,2008,2008,2008,2009,2005,2012,2011,2008,2010,2010,2015,2010,2005,2015,2014,2009,2016,2013,2015,2006,2018,2020,2013,2012,2017,2010,2008,2017,2012,2015,2017,2008,2009,2009,2008,2013,2009,2010,2010,2017,2013,2009,2013,2006,2010,2006,2011,2015,2017,2007,2014,2017,2016,2016,2014,2008,2013,2014,2006,2016,2011,2020,2014,2010,2016,2017,2007,2010,2014,2008,2020,2005,2017,2013,2017,2016,2016,2016,2014,2012,2017,2014,2014,2011,2009,2005,2014,2011,2015,2014,2013,2017,2013,2012,2018,2015,2012,2011,2017,2014,2013,2006,2012,2009,2017,2006,2012,2014,2014,2008,2006,2017,2009,2007,2010,2013,2016,2011,2012,2018,2018,2018,2011,2009,2008,2010,2011,2007,2014,2011,2006,2015,2019,2016,2011,2016,2014,2012,2018,2012,2006,2011,2007,2009,2015,2014,2014,2017,2007,2007,2014,2019,2015,2010,2006,2014,2007,2019,2014,2018,2019,2012,2017,2015,2006,2012,2012,2018,2019,2017,2015,2015,2016,2013,2009,2012,2015,2006,2011,2019,2014,2009,2014,2009,2018,2009,2011,2016,2009,2006,2015,2017,2009,2016,2021,2011,2009,2010,2011,2008,2008,2010,2008,2006,2013,2017,2006,2016,2019,2010,2019,2014,2012,2013,2013,2017,2009,2020,2013,2005,2016,2011,2017,2015,2012,2010,2016,2010,2013,2012,2016,2016,2007,2008,2014,2008,2006,2010,2011,2011,2010,2015,2010,2014,2011,2013,2008,2012,2019,2007,2014,2012,2016,2018,2013,2012,2010,2014,2006,2014,2019,2017,2015,2013,2007,2014,2016,2015,2014,2014,2016,2019,2014,2014,2007,2009,2017,2015,2015,2015,2014,2015,2018,2007,2011,2007,2014,2014,2006,2015,2011,2011,2009,2012,2011,2012,2013,2007,2006,2011,2016,2018,2007,2015,2019,2005,2011,2013,2021,2018,2016,2008,2010,2013,2015,2011,2006,2011,2014,2009,2014,2017,2012,2015,2014,2014,2014,2015,2016,2012,2013,2016,2015,2014,2016,2008,2010,2015,2006,2011,2018,2015,2012,2015,2015,2009,2017,2019,2016,2006,2016,2014,2015,2014,2020,2015,2005,2014,2019,2008,2017,2014,2014,2006,2015,2018,2006,2012,2013,2006,2011,2017,2018,2017,2015,2014,2007,2010,2011,2012,2014,2014,2018,2009,2012,2012,2018,2011,2015,2018,2013,2020,2007,2013,2008,2015,2012,2006,2012,2010,2010,2015,2015,2015,2014,2014,2012,2011,2015,2021,2012,2006,2006,2009,2014,2015,2007,2018,2014,2013,2016,2013,2013,2017,2017,2011,2010,2011,2018,2013,2007,2015,2018,2006,2019,2011,2016,2011,2013,2014,2016,2011,2014,2013,2016,2012,2005,2012,2015,2017,2018,2009,2016,2014,2009,2009,2016,2016,2013,2016,2008,2014,2014,2014,2013,2011,2012,2017],\"y0\":\" \",\"yaxis\":\"y\",\"type\":\"box\"}],                        {\"template\":{\"data\":{\"histogram2dcontour\":[{\"type\":\"histogram2dcontour\",\"colorbar\":{\"outlinewidth\":0,\"ticks\":\"\"},\"colorscale\":[[0.0,\"#0d0887\"],[0.1111111111111111,\"#46039f\"],[0.2222222222222222,\"#7201a8\"],[0.3333333333333333,\"#9c179e\"],[0.4444444444444444,\"#bd3786\"],[0.5555555555555556,\"#d8576b\"],[0.6666666666666666,\"#ed7953\"],[0.7777777777777778,\"#fb9f3a\"],[0.8888888888888888,\"#fdca26\"],[1.0,\"#f0f921\"]]}],\"choropleth\":[{\"type\":\"choropleth\",\"colorbar\":{\"outlinewidth\":0,\"ticks\":\"\"}}],\"histogram2d\":[{\"type\":\"histogram2d\",\"colorbar\":{\"outlinewidth\":0,\"ticks\":\"\"},\"colorscale\":[[0.0,\"#0d0887\"],[0.1111111111111111,\"#46039f\"],[0.2222222222222222,\"#7201a8\"],[0.3333333333333333,\"#9c179e\"],[0.4444444444444444,\"#bd3786\"],[0.5555555555555556,\"#d8576b\"],[0.6666666666666666,\"#ed7953\"],[0.7777777777777778,\"#fb9f3a\"],[0.8888888888888888,\"#fdca26\"],[1.0,\"#f0f921\"]]}],\"heatmap\":[{\"type\":\"heatmap\",\"colorbar\":{\"outlinewidth\":0,\"ticks\":\"\"},\"colorscale\":[[0.0,\"#0d0887\"],[0.1111111111111111,\"#46039f\"],[0.2222222222222222,\"#7201a8\"],[0.3333333333333333,\"#9c179e\"],[0.4444444444444444,\"#bd3786\"],[0.5555555555555556,\"#d8576b\"],[0.6666666666666666,\"#ed7953\"],[0.7777777777777778,\"#fb9f3a\"],[0.8888888888888888,\"#fdca26\"],[1.0,\"#f0f921\"]]}],\"heatmapgl\":[{\"type\":\"heatmapgl\",\"colorbar\":{\"outlinewidth\":0,\"ticks\":\"\"},\"colorscale\":[[0.0,\"#0d0887\"],[0.1111111111111111,\"#46039f\"],[0.2222222222222222,\"#7201a8\"],[0.3333333333333333,\"#9c179e\"],[0.4444444444444444,\"#bd3786\"],[0.5555555555555556,\"#d8576b\"],[0.6666666666666666,\"#ed7953\"],[0.7777777777777778,\"#fb9f3a\"],[0.8888888888888888,\"#fdca26\"],[1.0,\"#f0f921\"]]}],\"contourcarpet\":[{\"type\":\"contourcarpet\",\"colorbar\":{\"outlinewidth\":0,\"ticks\":\"\"}}],\"contour\":[{\"type\":\"contour\",\"colorbar\":{\"outlinewidth\":0,\"ticks\":\"\"},\"colorscale\":[[0.0,\"#0d0887\"],[0.1111111111111111,\"#46039f\"],[0.2222222222222222,\"#7201a8\"],[0.3333333333333333,\"#9c179e\"],[0.4444444444444444,\"#bd3786\"],[0.5555555555555556,\"#d8576b\"],[0.6666666666666666,\"#ed7953\"],[0.7777777777777778,\"#fb9f3a\"],[0.8888888888888888,\"#fdca26\"],[1.0,\"#f0f921\"]]}],\"surface\":[{\"type\":\"surface\",\"colorbar\":{\"outlinewidth\":0,\"ticks\":\"\"},\"colorscale\":[[0.0,\"#0d0887\"],[0.1111111111111111,\"#46039f\"],[0.2222222222222222,\"#7201a8\"],[0.3333333333333333,\"#9c179e\"],[0.4444444444444444,\"#bd3786\"],[0.5555555555555556,\"#d8576b\"],[0.6666666666666666,\"#ed7953\"],[0.7777777777777778,\"#fb9f3a\"],[0.8888888888888888,\"#fdca26\"],[1.0,\"#f0f921\"]]}],\"mesh3d\":[{\"type\":\"mesh3d\",\"colorbar\":{\"outlinewidth\":0,\"ticks\":\"\"}}],\"scatter\":[{\"fillpattern\":{\"fillmode\":\"overlay\",\"size\":10,\"solidity\":0.2},\"type\":\"scatter\"}],\"parcoords\":[{\"type\":\"parcoords\",\"line\":{\"colorbar\":{\"outlinewidth\":0,\"ticks\":\"\"}}}],\"scatterpolargl\":[{\"type\":\"scatterpolargl\",\"marker\":{\"colorbar\":{\"outlinewidth\":0,\"ticks\":\"\"}}}],\"bar\":[{\"error_x\":{\"color\":\"#2a3f5f\"},\"error_y\":{\"color\":\"#2a3f5f\"},\"marker\":{\"line\":{\"color\":\"#E5ECF6\",\"width\":0.5},\"pattern\":{\"fillmode\":\"overlay\",\"size\":10,\"solidity\":0.2}},\"type\":\"bar\"}],\"scattergeo\":[{\"type\":\"scattergeo\",\"marker\":{\"colorbar\":{\"outlinewidth\":0,\"ticks\":\"\"}}}],\"scatterpolar\":[{\"type\":\"scatterpolar\",\"marker\":{\"colorbar\":{\"outlinewidth\":0,\"ticks\":\"\"}}}],\"histogram\":[{\"marker\":{\"pattern\":{\"fillmode\":\"overlay\",\"size\":10,\"solidity\":0.2}},\"type\":\"histogram\"}],\"scattergl\":[{\"type\":\"scattergl\",\"marker\":{\"colorbar\":{\"outlinewidth\":0,\"ticks\":\"\"}}}],\"scatter3d\":[{\"type\":\"scatter3d\",\"line\":{\"colorbar\":{\"outlinewidth\":0,\"ticks\":\"\"}},\"marker\":{\"colorbar\":{\"outlinewidth\":0,\"ticks\":\"\"}}}],\"scattermapbox\":[{\"type\":\"scattermapbox\",\"marker\":{\"colorbar\":{\"outlinewidth\":0,\"ticks\":\"\"}}}],\"scatterternary\":[{\"type\":\"scatterternary\",\"marker\":{\"colorbar\":{\"outlinewidth\":0,\"ticks\":\"\"}}}],\"scattercarpet\":[{\"type\":\"scattercarpet\",\"marker\":{\"colorbar\":{\"outlinewidth\":0,\"ticks\":\"\"}}}],\"carpet\":[{\"aaxis\":{\"endlinecolor\":\"#2a3f5f\",\"gridcolor\":\"white\",\"linecolor\":\"white\",\"minorgridcolor\":\"white\",\"startlinecolor\":\"#2a3f5f\"},\"baxis\":{\"endlinecolor\":\"#2a3f5f\",\"gridcolor\":\"white\",\"linecolor\":\"white\",\"minorgridcolor\":\"white\",\"startlinecolor\":\"#2a3f5f\"},\"type\":\"carpet\"}],\"table\":[{\"cells\":{\"fill\":{\"color\":\"#EBF0F8\"},\"line\":{\"color\":\"white\"}},\"header\":{\"fill\":{\"color\":\"#C8D4E3\"},\"line\":{\"color\":\"white\"}},\"type\":\"table\"}],\"barpolar\":[{\"marker\":{\"line\":{\"color\":\"#E5ECF6\",\"width\":0.5},\"pattern\":{\"fillmode\":\"overlay\",\"size\":10,\"solidity\":0.2}},\"type\":\"barpolar\"}],\"pie\":[{\"automargin\":true,\"type\":\"pie\"}]},\"layout\":{\"autotypenumbers\":\"strict\",\"colorway\":[\"#636efa\",\"#EF553B\",\"#00cc96\",\"#ab63fa\",\"#FFA15A\",\"#19d3f3\",\"#FF6692\",\"#B6E880\",\"#FF97FF\",\"#FECB52\"],\"font\":{\"color\":\"#2a3f5f\"},\"hovermode\":\"closest\",\"hoverlabel\":{\"align\":\"left\"},\"paper_bgcolor\":\"white\",\"plot_bgcolor\":\"#E5ECF6\",\"polar\":{\"bgcolor\":\"#E5ECF6\",\"angularaxis\":{\"gridcolor\":\"white\",\"linecolor\":\"white\",\"ticks\":\"\"},\"radialaxis\":{\"gridcolor\":\"white\",\"linecolor\":\"white\",\"ticks\":\"\"}},\"ternary\":{\"bgcolor\":\"#E5ECF6\",\"aaxis\":{\"gridcolor\":\"white\",\"linecolor\":\"white\",\"ticks\":\"\"},\"baxis\":{\"gridcolor\":\"white\",\"linecolor\":\"white\",\"ticks\":\"\"},\"caxis\":{\"gridcolor\":\"white\",\"linecolor\":\"white\",\"ticks\":\"\"}},\"coloraxis\":{\"colorbar\":{\"outlinewidth\":0,\"ticks\":\"\"}},\"colorscale\":{\"sequential\":[[0.0,\"#0d0887\"],[0.1111111111111111,\"#46039f\"],[0.2222222222222222,\"#7201a8\"],[0.3333333333333333,\"#9c179e\"],[0.4444444444444444,\"#bd3786\"],[0.5555555555555556,\"#d8576b\"],[0.6666666666666666,\"#ed7953\"],[0.7777777777777778,\"#fb9f3a\"],[0.8888888888888888,\"#fdca26\"],[1.0,\"#f0f921\"]],\"sequentialminus\":[[0.0,\"#0d0887\"],[0.1111111111111111,\"#46039f\"],[0.2222222222222222,\"#7201a8\"],[0.3333333333333333,\"#9c179e\"],[0.4444444444444444,\"#bd3786\"],[0.5555555555555556,\"#d8576b\"],[0.6666666666666666,\"#ed7953\"],[0.7777777777777778,\"#fb9f3a\"],[0.8888888888888888,\"#fdca26\"],[1.0,\"#f0f921\"]],\"diverging\":[[0,\"#8e0152\"],[0.1,\"#c51b7d\"],[0.2,\"#de77ae\"],[0.3,\"#f1b6da\"],[0.4,\"#fde0ef\"],[0.5,\"#f7f7f7\"],[0.6,\"#e6f5d0\"],[0.7,\"#b8e186\"],[0.8,\"#7fbc41\"],[0.9,\"#4d9221\"],[1,\"#276419\"]]},\"xaxis\":{\"gridcolor\":\"white\",\"linecolor\":\"white\",\"ticks\":\"\",\"title\":{\"standoff\":15},\"zerolinecolor\":\"white\",\"automargin\":true,\"zerolinewidth\":2},\"yaxis\":{\"gridcolor\":\"white\",\"linecolor\":\"white\",\"ticks\":\"\",\"title\":{\"standoff\":15},\"zerolinecolor\":\"white\",\"automargin\":true,\"zerolinewidth\":2},\"scene\":{\"xaxis\":{\"backgroundcolor\":\"#E5ECF6\",\"gridcolor\":\"white\",\"linecolor\":\"white\",\"showbackground\":true,\"ticks\":\"\",\"zerolinecolor\":\"white\",\"gridwidth\":2},\"yaxis\":{\"backgroundcolor\":\"#E5ECF6\",\"gridcolor\":\"white\",\"linecolor\":\"white\",\"showbackground\":true,\"ticks\":\"\",\"zerolinecolor\":\"white\",\"gridwidth\":2},\"zaxis\":{\"backgroundcolor\":\"#E5ECF6\",\"gridcolor\":\"white\",\"linecolor\":\"white\",\"showbackground\":true,\"ticks\":\"\",\"zerolinecolor\":\"white\",\"gridwidth\":2}},\"shapedefaults\":{\"line\":{\"color\":\"#2a3f5f\"}},\"annotationdefaults\":{\"arrowcolor\":\"#2a3f5f\",\"arrowhead\":0,\"arrowwidth\":1},\"geo\":{\"bgcolor\":\"white\",\"landcolor\":\"#E5ECF6\",\"subunitcolor\":\"white\",\"showland\":true,\"showlakes\":true,\"lakecolor\":\"white\"},\"title\":{\"x\":0.05},\"mapbox\":{\"style\":\"light\"}}},\"xaxis\":{\"anchor\":\"y\",\"domain\":[0.0,1.0]},\"yaxis\":{\"anchor\":\"x\",\"domain\":[0.0,1.0],\"title\":{\"text\":\"started\"}},\"legend\":{\"tracegroupgap\":0},\"title\":{\"text\":\"Years Started\"},\"boxmode\":\"group\"},                        {\"responsive\": true}                    ).then(function(){\n",
              "                            \n",
              "var gd = document.getElementById('4cad64f8-f325-49c2-b16f-c2a2f76ba91d');\n",
              "var x = new MutationObserver(function (mutations, observer) {{\n",
              "        var display = window.getComputedStyle(gd).display;\n",
              "        if (!display || display === 'none') {{\n",
              "            console.log([gd, 'removed!']);\n",
              "            Plotly.purge(gd);\n",
              "            observer.disconnect();\n",
              "        }}\n",
              "}});\n",
              "\n",
              "// Listen for the removal of the full notebook cells\n",
              "var notebookContainer = gd.closest('#notebook-container');\n",
              "if (notebookContainer) {{\n",
              "    x.observe(notebookContainer, {childList: true});\n",
              "}}\n",
              "\n",
              "// Listen for the clearing of the current output cell\n",
              "var outputEl = gd.closest('.output');\n",
              "if (outputEl) {{\n",
              "    x.observe(outputEl, {childList: true});\n",
              "}}\n",
              "\n",
              "                        })                };                            </script>        </div>\n",
              "</body>\n",
              "</html>"
            ]
          },
          "metadata": {}
        }
      ]
    },
    {
      "cell_type": "markdown",
      "source": [
        "Code to clean and prepare data"
      ],
      "metadata": {
        "id": "X3Y6f4fsmUXb"
      }
    },
    {
      "cell_type": "code",
      "source": [
        "import pandas as pd\n",
        "\n",
        "# Load data\n",
        "df = pd.read_csv('/mnt/data/most_subscribed_youtube_channels.csv')\n",
        "\n",
        "# Clean numerical columns: remove commas and convert to numeric\n",
        "cols_to_clean = ['subscribers', 'video views', 'video count']\n",
        "for col in cols_to_clean:\n",
        "    df[col] = df[col].str.replace(',', '', regex=True)\n",
        "    df[col] = pd.to_numeric(df[col], errors='coerce')\n",
        "\n",
        "# Drop rows with missing values in key columns\n",
        "df = df.dropna(subset=cols_to_clean + ['started'])\n",
        "\n",
        "# Create new features\n",
        "df['channel_age'] = 2025 - df['started']  # Assuming current year 2025\n",
        "df['views_per_video'] = df['video views'] / df['video count']\n",
        "df['subs_per_view'] = df['subscribers'] / df['video views']\n",
        "\n",
        "# Handle infinite or NaN values in new features\n",
        "df.replace([float('inf'), -float('inf')], pd.NA, inplace=True)\n",
        "df.dropna(subset=['views_per_video', 'subs_per_view'], inplace=True)\n",
        "\n",
        "df.head()\n"
      ],
      "metadata": {
        "id": "zA87KggnmbDz"
      },
      "execution_count": null,
      "outputs": []
    },
    {
      "cell_type": "markdown",
      "source": [
        "Clustering with K-Means\n",
        "Code for clustering and visualization"
      ],
      "metadata": {
        "id": "XLfZt0i2mgKD"
      }
    },
    {
      "cell_type": "code",
      "source": [
        "from sklearn.cluster import KMeans\n",
        "from sklearn.preprocessing import StandardScaler\n",
        "import matplotlib.pyplot as plt\n",
        "\n",
        "# Select features for clustering\n",
        "features = ['subscribers', 'video views', 'video count', 'channel_age', 'views_per_video', 'subs_per_view']\n",
        "X = df[features]\n",
        "\n",
        "# Scale features\n",
        "scaler = StandardScaler()\n",
        "X_scaled = scaler.fit_transform(X)\n",
        "\n",
        "# Find the optimal number of clusters using the elbow method\n",
        "inertia = []\n",
        "for k in range(1, 10):\n",
        "    kmeans = KMeans(n_clusters=k, random_state=42)\n",
        "    kmeans.fit(X_scaled)\n",
        "    inertia.append(kmeans.inertia_)\n",
        "\n",
        "plt.plot(range(1, 10), inertia, marker='o')\n",
        "plt.xlabel('Number of clusters')\n",
        "plt.ylabel('Inertia')\n",
        "plt.title('Elbow Method For Optimal k')\n",
        "plt.show()\n"
      ],
      "metadata": {
        "id": "qby1qJE3mksT"
      },
      "execution_count": null,
      "outputs": []
    },
    {
      "cell_type": "markdown",
      "source": [
        "Apply KMeans with chosen k (e.g., k=3)"
      ],
      "metadata": {
        "id": "4uygrB0Emn7F"
      }
    },
    {
      "cell_type": "code",
      "source": [
        "k = 3  # Change based on elbow method result\n",
        "kmeans = KMeans(n_clusters=k, random_state=42)\n",
        "df['cluster'] = kmeans.fit_predict(X_scaled)\n",
        "\n",
        "# Inspect cluster counts\n",
        "print(df['cluster'].value_counts())\n"
      ],
      "metadata": {
        "id": "apxuEzlsmv3X"
      },
      "execution_count": null,
      "outputs": []
    },
    {
      "cell_type": "markdown",
      "source": [
        "Visualize clusters using PCA (2D)\n",
        "python\n",
        "Copy\n"
      ],
      "metadata": {
        "id": "yqjkEcvUm1Rn"
      }
    },
    {
      "cell_type": "code",
      "source": [
        "from sklearn.decomposition import PCA\n",
        "\n",
        "pca = PCA(n_components=2)\n",
        "X_pca = pca.fit_transform(X_scaled)\n",
        "\n",
        "plt.figure(figsize=(8,6))\n",
        "scatter = plt.scatter(X_pca[:,0], X_pca[:,1], c=df['cluster'], cmap='viridis')\n",
        "plt.xlabel('PCA Component 1')\n",
        "plt.ylabel('PCA Component 2')\n",
        "plt.title('Clusters of YouTube Channels')\n",
        "plt.legend(*scatter.legend_elements(), title='Clusters')\n",
        "plt.show()\n"
      ],
      "metadata": {
        "id": "WV1EdMmNm3wz"
      },
      "execution_count": null,
      "outputs": []
    },
    {
      "cell_type": "markdown",
      "source": [
        "Regression to Predict Subscribers -\n",
        "Code for simple Linear Regression"
      ],
      "metadata": {
        "id": "uIfh8mfrm7y7"
      }
    },
    {
      "cell_type": "code",
      "source": [
        "from sklearn.model_selection import train_test_split\n",
        "from sklearn.linear_model import LinearRegression\n",
        "from sklearn.metrics import mean_squared_error, r2_score\n",
        "\n",
        "# Features & target\n",
        "X = df[['video views', 'video count', 'channel_age', 'views_per_video', 'subs_per_view']]\n",
        "y = df['subscribers']\n",
        "\n",
        "# Train-test split\n",
        "X_train, X_test, y_train, y_test = train_test_split(X, y, test_size=0.2, random_state=42)\n",
        "\n",
        "# Train model\n",
        "lr = LinearRegression()\n",
        "lr.fit(X_train, y_train)\n",
        "\n",
        "# Predictions\n",
        "y_pred = lr.predict(X_test)\n",
        "\n",
        "# Evaluation\n",
        "print('RMSE:', mean_squared_error(y_test, y_pred, squared=False))\n",
        "print('R^2:', r2_score(y_test, y_pred))\n"
      ],
      "metadata": {
        "id": "SsUE7DsanB1z"
      },
      "execution_count": null,
      "outputs": []
    }
  ]
}